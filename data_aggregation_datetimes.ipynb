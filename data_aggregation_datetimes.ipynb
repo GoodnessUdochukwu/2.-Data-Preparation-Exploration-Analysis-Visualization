{
 "cells": [
  {
   "cell_type": "markdown",
   "id": "16e15cca",
   "metadata": {
    "id": "16e15cca"
   },
   "source": [
    "# Data wrangling and datetimes\n",
    "\n",
    "Dates and times are a special kind of data type. In this notebook, we will keep exploring the `orders` and `orderlines` datasets from Eniac and learn to deal with them. "
   ]
  },
  {
   "cell_type": "code",
   "execution_count": 1,
   "id": "0049f94a",
   "metadata": {
    "id": "0049f94a"
   },
   "outputs": [],
   "source": [
    "import pandas as pd"
   ]
  },
  {
   "cell_type": "code",
   "execution_count": 2,
   "id": "c9cdc323",
   "metadata": {
    "id": "c9cdc323"
   },
   "outputs": [],
   "source": [
    "url = 'https://drive.google.com/file/d/14Y7g5ITyf6LMyPoKc9wr010V9StaCUux/view?usp=sharing' # orderlines.csv\n",
    "path = 'https://drive.google.com/uc?export=download&id='+url.split('/')[-2]\n",
    "order_lines = pd.read_csv(path)"
   ]
  },
  {
   "cell_type": "code",
   "execution_count": 3,
   "id": "6f1412f3-4ccf-48c3-8641-5307a6bff33e",
   "metadata": {},
   "outputs": [],
   "source": [
    "url = 'https://drive.google.com/file/d/1BLEHcP-9fm9Rv7A01H3co2XBMnSr66YC/view?usp=sharing' # orders.csv\n",
    "path = 'https://drive.google.com/uc?export=download&id='+url.split('/')[-2]\n",
    "orders = pd.read_csv(path)"
   ]
  },
  {
   "cell_type": "markdown",
   "id": "b348f57d",
   "metadata": {
    "id": "b348f57d"
   },
   "source": [
    "## Data exploration"
   ]
  },
  {
   "cell_type": "markdown",
   "id": "26e61d5f",
   "metadata": {
    "id": "26e61d5f"
   },
   "source": [
    "**Exercise**: check whether the dates from the `orderlines` dataset match with the dates on the `orders` dataset."
   ]
  },
  {
   "cell_type": "code",
   "execution_count": 4,
   "id": "e57140b5-6aa4-4ef2-844b-f02977933e35",
   "metadata": {},
   "outputs": [
    {
     "data": {
      "text/html": [
       "<div>\n",
       "<style scoped>\n",
       "    .dataframe tbody tr th:only-of-type {\n",
       "        vertical-align: middle;\n",
       "    }\n",
       "\n",
       "    .dataframe tbody tr th {\n",
       "        vertical-align: top;\n",
       "    }\n",
       "\n",
       "    .dataframe thead th {\n",
       "        text-align: right;\n",
       "    }\n",
       "</style>\n",
       "<table border=\"1\" class=\"dataframe\">\n",
       "  <thead>\n",
       "    <tr style=\"text-align: right;\">\n",
       "      <th></th>\n",
       "      <th>id</th>\n",
       "      <th>id_order</th>\n",
       "      <th>product_id</th>\n",
       "      <th>product_quantity</th>\n",
       "      <th>sku</th>\n",
       "      <th>unit_price</th>\n",
       "      <th>date</th>\n",
       "    </tr>\n",
       "  </thead>\n",
       "  <tbody>\n",
       "    <tr>\n",
       "      <th>0</th>\n",
       "      <td>1119109</td>\n",
       "      <td>299539</td>\n",
       "      <td>0</td>\n",
       "      <td>1</td>\n",
       "      <td>OTT0133</td>\n",
       "      <td>18.99</td>\n",
       "      <td>2017-01-01 00:07:19</td>\n",
       "    </tr>\n",
       "    <tr>\n",
       "      <th>1</th>\n",
       "      <td>1119110</td>\n",
       "      <td>299540</td>\n",
       "      <td>0</td>\n",
       "      <td>1</td>\n",
       "      <td>LGE0043</td>\n",
       "      <td>399.00</td>\n",
       "      <td>2017-01-01 00:19:45</td>\n",
       "    </tr>\n",
       "    <tr>\n",
       "      <th>2</th>\n",
       "      <td>1119111</td>\n",
       "      <td>299541</td>\n",
       "      <td>0</td>\n",
       "      <td>1</td>\n",
       "      <td>PAR0071</td>\n",
       "      <td>474.05</td>\n",
       "      <td>2017-01-01 00:20:57</td>\n",
       "    </tr>\n",
       "    <tr>\n",
       "      <th>3</th>\n",
       "      <td>1119112</td>\n",
       "      <td>299542</td>\n",
       "      <td>0</td>\n",
       "      <td>1</td>\n",
       "      <td>WDT0315</td>\n",
       "      <td>68.39</td>\n",
       "      <td>2017-01-01 00:51:40</td>\n",
       "    </tr>\n",
       "    <tr>\n",
       "      <th>4</th>\n",
       "      <td>1119113</td>\n",
       "      <td>299543</td>\n",
       "      <td>0</td>\n",
       "      <td>1</td>\n",
       "      <td>JBL0104</td>\n",
       "      <td>23.74</td>\n",
       "      <td>2017-01-01 01:06:38</td>\n",
       "    </tr>\n",
       "  </tbody>\n",
       "</table>\n",
       "</div>"
      ],
      "text/plain": [
       "        id  id_order  product_id  product_quantity      sku unit_price  \\\n",
       "0  1119109    299539           0                 1  OTT0133      18.99   \n",
       "1  1119110    299540           0                 1  LGE0043     399.00   \n",
       "2  1119111    299541           0                 1  PAR0071     474.05   \n",
       "3  1119112    299542           0                 1  WDT0315      68.39   \n",
       "4  1119113    299543           0                 1  JBL0104      23.74   \n",
       "\n",
       "                  date  \n",
       "0  2017-01-01 00:07:19  \n",
       "1  2017-01-01 00:19:45  \n",
       "2  2017-01-01 00:20:57  \n",
       "3  2017-01-01 00:51:40  \n",
       "4  2017-01-01 01:06:38  "
      ]
     },
     "execution_count": 4,
     "metadata": {},
     "output_type": "execute_result"
    }
   ],
   "source": [
    "order_lines.head()"
   ]
  },
  {
   "cell_type": "code",
   "execution_count": 5,
   "id": "a6ce0e84-3c28-4c64-9875-0f2afea12085",
   "metadata": {},
   "outputs": [
    {
     "data": {
      "text/plain": [
       "(293983, 7)"
      ]
     },
     "execution_count": 5,
     "metadata": {},
     "output_type": "execute_result"
    }
   ],
   "source": [
    "order_lines.shape"
   ]
  },
  {
   "cell_type": "code",
   "execution_count": 6,
   "id": "de23d1fe-1dc5-4fe4-8394-4c6d5d53d121",
   "metadata": {},
   "outputs": [
    {
     "data": {
      "text/html": [
       "<div>\n",
       "<style scoped>\n",
       "    .dataframe tbody tr th:only-of-type {\n",
       "        vertical-align: middle;\n",
       "    }\n",
       "\n",
       "    .dataframe tbody tr th {\n",
       "        vertical-align: top;\n",
       "    }\n",
       "\n",
       "    .dataframe thead th {\n",
       "        text-align: right;\n",
       "    }\n",
       "</style>\n",
       "<table border=\"1\" class=\"dataframe\">\n",
       "  <thead>\n",
       "    <tr style=\"text-align: right;\">\n",
       "      <th></th>\n",
       "      <th>order_id</th>\n",
       "      <th>created_date</th>\n",
       "      <th>total_paid</th>\n",
       "      <th>state</th>\n",
       "    </tr>\n",
       "  </thead>\n",
       "  <tbody>\n",
       "    <tr>\n",
       "      <th>0</th>\n",
       "      <td>241319</td>\n",
       "      <td>2017-01-02 13:35:40</td>\n",
       "      <td>44.99</td>\n",
       "      <td>Cancelled</td>\n",
       "    </tr>\n",
       "    <tr>\n",
       "      <th>1</th>\n",
       "      <td>241423</td>\n",
       "      <td>2017-11-06 13:10:02</td>\n",
       "      <td>136.15</td>\n",
       "      <td>Completed</td>\n",
       "    </tr>\n",
       "    <tr>\n",
       "      <th>2</th>\n",
       "      <td>242832</td>\n",
       "      <td>2017-12-31 17:40:03</td>\n",
       "      <td>15.76</td>\n",
       "      <td>Completed</td>\n",
       "    </tr>\n",
       "    <tr>\n",
       "      <th>3</th>\n",
       "      <td>243330</td>\n",
       "      <td>2017-02-16 10:59:38</td>\n",
       "      <td>84.98</td>\n",
       "      <td>Completed</td>\n",
       "    </tr>\n",
       "    <tr>\n",
       "      <th>4</th>\n",
       "      <td>243784</td>\n",
       "      <td>2017-11-24 13:35:19</td>\n",
       "      <td>157.86</td>\n",
       "      <td>Cancelled</td>\n",
       "    </tr>\n",
       "  </tbody>\n",
       "</table>\n",
       "</div>"
      ],
      "text/plain": [
       "   order_id         created_date  total_paid      state\n",
       "0    241319  2017-01-02 13:35:40       44.99  Cancelled\n",
       "1    241423  2017-11-06 13:10:02      136.15  Completed\n",
       "2    242832  2017-12-31 17:40:03       15.76  Completed\n",
       "3    243330  2017-02-16 10:59:38       84.98  Completed\n",
       "4    243784  2017-11-24 13:35:19      157.86  Cancelled"
      ]
     },
     "execution_count": 6,
     "metadata": {},
     "output_type": "execute_result"
    }
   ],
   "source": [
    "orders.head()"
   ]
  },
  {
   "cell_type": "code",
   "execution_count": 7,
   "id": "eec59cc7-cfcd-49f9-961c-69200e0a0d95",
   "metadata": {},
   "outputs": [
    {
     "data": {
      "text/html": [
       "<div>\n",
       "<style scoped>\n",
       "    .dataframe tbody tr th:only-of-type {\n",
       "        vertical-align: middle;\n",
       "    }\n",
       "\n",
       "    .dataframe tbody tr th {\n",
       "        vertical-align: top;\n",
       "    }\n",
       "\n",
       "    .dataframe thead th {\n",
       "        text-align: right;\n",
       "    }\n",
       "</style>\n",
       "<table border=\"1\" class=\"dataframe\">\n",
       "  <thead>\n",
       "    <tr style=\"text-align: right;\">\n",
       "      <th></th>\n",
       "      <th>id</th>\n",
       "      <th>id_order</th>\n",
       "      <th>product_id</th>\n",
       "      <th>product_quantity</th>\n",
       "      <th>sku</th>\n",
       "      <th>unit_price</th>\n",
       "      <th>date</th>\n",
       "      <th>created_date</th>\n",
       "      <th>total_paid</th>\n",
       "      <th>state</th>\n",
       "    </tr>\n",
       "  </thead>\n",
       "  <tbody>\n",
       "    <tr>\n",
       "      <th>0</th>\n",
       "      <td>1119109</td>\n",
       "      <td>299539</td>\n",
       "      <td>0</td>\n",
       "      <td>1</td>\n",
       "      <td>OTT0133</td>\n",
       "      <td>18.99</td>\n",
       "      <td>2017-01-01 00:07:19</td>\n",
       "      <td>2017-01-01 00:07:19</td>\n",
       "      <td>18.99</td>\n",
       "      <td>Shopping Basket</td>\n",
       "    </tr>\n",
       "    <tr>\n",
       "      <th>1</th>\n",
       "      <td>1119110</td>\n",
       "      <td>299540</td>\n",
       "      <td>0</td>\n",
       "      <td>1</td>\n",
       "      <td>LGE0043</td>\n",
       "      <td>399.00</td>\n",
       "      <td>2017-01-01 00:19:45</td>\n",
       "      <td>2017-01-01 00:19:45</td>\n",
       "      <td>399.00</td>\n",
       "      <td>Shopping Basket</td>\n",
       "    </tr>\n",
       "    <tr>\n",
       "      <th>2</th>\n",
       "      <td>1119111</td>\n",
       "      <td>299541</td>\n",
       "      <td>0</td>\n",
       "      <td>1</td>\n",
       "      <td>PAR0071</td>\n",
       "      <td>474.05</td>\n",
       "      <td>2017-01-01 00:20:57</td>\n",
       "      <td>2017-01-01 00:20:57</td>\n",
       "      <td>474.05</td>\n",
       "      <td>Shopping Basket</td>\n",
       "    </tr>\n",
       "    <tr>\n",
       "      <th>3</th>\n",
       "      <td>1119112</td>\n",
       "      <td>299542</td>\n",
       "      <td>0</td>\n",
       "      <td>1</td>\n",
       "      <td>WDT0315</td>\n",
       "      <td>68.39</td>\n",
       "      <td>2017-01-01 00:51:40</td>\n",
       "      <td>2017-01-01 00:51:40</td>\n",
       "      <td>68.39</td>\n",
       "      <td>Shopping Basket</td>\n",
       "    </tr>\n",
       "    <tr>\n",
       "      <th>4</th>\n",
       "      <td>1119113</td>\n",
       "      <td>299543</td>\n",
       "      <td>0</td>\n",
       "      <td>1</td>\n",
       "      <td>JBL0104</td>\n",
       "      <td>23.74</td>\n",
       "      <td>2017-01-01 01:06:38</td>\n",
       "      <td>2017-01-01 01:06:38</td>\n",
       "      <td>23.74</td>\n",
       "      <td>Shopping Basket</td>\n",
       "    </tr>\n",
       "  </tbody>\n",
       "</table>\n",
       "</div>"
      ],
      "text/plain": [
       "        id  id_order  product_id  product_quantity      sku unit_price  \\\n",
       "0  1119109    299539           0                 1  OTT0133      18.99   \n",
       "1  1119110    299540           0                 1  LGE0043     399.00   \n",
       "2  1119111    299541           0                 1  PAR0071     474.05   \n",
       "3  1119112    299542           0                 1  WDT0315      68.39   \n",
       "4  1119113    299543           0                 1  JBL0104      23.74   \n",
       "\n",
       "                  date         created_date  total_paid            state  \n",
       "0  2017-01-01 00:07:19  2017-01-01 00:07:19       18.99  Shopping Basket  \n",
       "1  2017-01-01 00:19:45  2017-01-01 00:19:45      399.00  Shopping Basket  \n",
       "2  2017-01-01 00:20:57  2017-01-01 00:20:57      474.05  Shopping Basket  \n",
       "3  2017-01-01 00:51:40  2017-01-01 00:51:40       68.39  Shopping Basket  \n",
       "4  2017-01-01 01:06:38  2017-01-01 01:06:38       23.74  Shopping Basket  "
      ]
     },
     "execution_count": 7,
     "metadata": {},
     "output_type": "execute_result"
    }
   ],
   "source": [
    "date_com = pd.merge(order_lines, orders.rename(columns={'order_id': 'id_order'}), how='left')\n",
    "date_com.head()"
   ]
  },
  {
   "cell_type": "code",
   "execution_count": 8,
   "id": "6ec1f064-e5fc-43c2-8eac-81454c3c3525",
   "metadata": {},
   "outputs": [
    {
     "data": {
      "text/plain": [
       "(293983, 10)"
      ]
     },
     "execution_count": 8,
     "metadata": {},
     "output_type": "execute_result"
    }
   ],
   "source": [
    "date_com.shape"
   ]
  },
  {
   "cell_type": "code",
   "execution_count": 9,
   "id": "ad08e77d-12d0-4070-9390-f5bacab071a5",
   "metadata": {},
   "outputs": [
    {
     "data": {
      "text/plain": [
       "pandas.core.frame.DataFrame"
      ]
     },
     "execution_count": 9,
     "metadata": {},
     "output_type": "execute_result"
    }
   ],
   "source": [
    "type(date_com)"
   ]
  },
  {
   "cell_type": "code",
   "execution_count": 10,
   "id": "aaa062e5-d772-4bae-89a0-39442664f797",
   "metadata": {},
   "outputs": [
    {
     "data": {
      "text/plain": [
       "id                    int64\n",
       "id_order              int64\n",
       "product_id            int64\n",
       "product_quantity      int64\n",
       "sku                  object\n",
       "unit_price           object\n",
       "date                 object\n",
       "created_date         object\n",
       "total_paid          float64\n",
       "state                object\n",
       "dtype: object"
      ]
     },
     "execution_count": 10,
     "metadata": {},
     "output_type": "execute_result"
    }
   ],
   "source": [
    "date_com.dtypes"
   ]
  },
  {
   "cell_type": "code",
   "execution_count": 11,
   "id": "48b355eb-81f5-496b-8ac1-9b5459a0511f",
   "metadata": {},
   "outputs": [],
   "source": [
    "date_com['date'] = pd.to_datetime(date_com['date'])"
   ]
  },
  {
   "cell_type": "code",
   "execution_count": 12,
   "id": "30726097-b592-46c7-9565-64b2c28aa877",
   "metadata": {},
   "outputs": [],
   "source": [
    "date_com['created_date'] = pd.to_datetime(date_com['created_date'])"
   ]
  },
  {
   "cell_type": "code",
   "execution_count": 13,
   "id": "6a257355-34e4-4fb0-9b8f-65663e6eaf7e",
   "metadata": {},
   "outputs": [
    {
     "data": {
      "text/plain": [
       "id                           int64\n",
       "id_order                     int64\n",
       "product_id                   int64\n",
       "product_quantity             int64\n",
       "sku                         object\n",
       "unit_price                  object\n",
       "date                datetime64[ns]\n",
       "created_date        datetime64[ns]\n",
       "total_paid                 float64\n",
       "state                       object\n",
       "dtype: object"
      ]
     },
     "execution_count": 13,
     "metadata": {},
     "output_type": "execute_result"
    }
   ],
   "source": [
    "date_com.dtypes"
   ]
  },
  {
   "cell_type": "code",
   "execution_count": 14,
   "id": "d526619f-647e-424a-a123-6189aeb5e7d2",
   "metadata": {
    "id": "d526619f-647e-424a-a123-6189aeb5e7d2"
   },
   "outputs": [
    {
     "data": {
      "text/plain": [
       "0    True\n",
       "1    True\n",
       "2    True\n",
       "3    True\n",
       "4    True\n",
       "Name: com_datetimes, dtype: bool"
      ]
     },
     "execution_count": 14,
     "metadata": {},
     "output_type": "execute_result"
    }
   ],
   "source": [
    "# code here\n",
    "date_com['com_datetimes'] = date_com['date'] == date_com['created_date']\n",
    "date_com['com_datetimes'].head()"
   ]
  },
  {
   "cell_type": "code",
   "execution_count": 15,
   "id": "9f45e453-0945-4ec1-bd86-921b972ae722",
   "metadata": {},
   "outputs": [
    {
     "data": {
      "text/plain": [
       "True     166451\n",
       "False    127532\n",
       "Name: com_datetimes, dtype: int64"
      ]
     },
     "execution_count": 15,
     "metadata": {},
     "output_type": "execute_result"
    }
   ],
   "source": [
    "date_com['com_datetimes'].value_counts()"
   ]
  },
  {
   "cell_type": "code",
   "execution_count": 16,
   "id": "cee26947-8567-4f69-b8c1-e92e35dd64b4",
   "metadata": {},
   "outputs": [
    {
     "name": "stdout",
     "output_type": "stream",
     "text": [
      "<class 'pandas.core.frame.DataFrame'>\n",
      "Int64Index: 293983 entries, 0 to 293982\n",
      "Data columns (total 11 columns):\n",
      " #   Column            Non-Null Count   Dtype         \n",
      "---  ------            --------------   -----         \n",
      " 0   id                293983 non-null  int64         \n",
      " 1   id_order          293983 non-null  int64         \n",
      " 2   product_id        293983 non-null  int64         \n",
      " 3   product_quantity  293983 non-null  int64         \n",
      " 4   sku               293983 non-null  object        \n",
      " 5   unit_price        293983 non-null  object        \n",
      " 6   date              293983 non-null  datetime64[ns]\n",
      " 7   created_date      293749 non-null  datetime64[ns]\n",
      " 8   total_paid        293743 non-null  float64       \n",
      " 9   state             293749 non-null  object        \n",
      " 10  com_datetimes     293983 non-null  bool          \n",
      "dtypes: bool(1), datetime64[ns](2), float64(1), int64(4), object(3)\n",
      "memory usage: 25.0+ MB\n"
     ]
    }
   ],
   "source": [
    "date_com.info()"
   ]
  },
  {
   "cell_type": "code",
   "execution_count": 17,
   "id": "4329d90d-5aff-4d43-9041-07dfbbb17408",
   "metadata": {},
   "outputs": [
    {
     "data": {
      "text/plain": [
       "False    293983\n",
       "Name: date, dtype: int64"
      ]
     },
     "execution_count": 17,
     "metadata": {},
     "output_type": "execute_result"
    }
   ],
   "source": [
    "date_com['date'].isna().value_counts()"
   ]
  },
  {
   "cell_type": "code",
   "execution_count": 18,
   "id": "89d9db4c-fffd-4fc8-8393-ab2904e37935",
   "metadata": {},
   "outputs": [
    {
     "data": {
      "text/plain": [
       "False    293749\n",
       "True        234\n",
       "Name: created_date, dtype: int64"
      ]
     },
     "execution_count": 18,
     "metadata": {},
     "output_type": "execute_result"
    }
   ],
   "source": [
    "date_com['created_date'].isna().value_counts()"
   ]
  },
  {
   "cell_type": "code",
   "execution_count": 19,
   "id": "zTpR36COdXyl",
   "metadata": {
    "id": "zTpR36COdXyl"
   },
   "outputs": [
    {
     "data": {
      "text/plain": [
       "datetime.date(1990, 7, 28)"
      ]
     },
     "execution_count": 19,
     "metadata": {},
     "output_type": "execute_result"
    }
   ],
   "source": [
    "import datetime\n",
    "\n",
    "datetime.date.fromisoformat(\"1990-07-28\")"
   ]
  },
  {
   "cell_type": "markdown",
   "id": "59f6fa52",
   "metadata": {
    "id": "59f6fa52"
   },
   "source": [
    "# CHALLENGES"
   ]
  },
  {
   "cell_type": "markdown",
   "id": "a783a865",
   "metadata": {
    "id": "a783a865"
   },
   "source": [
    "**1. Which are the top 6 orders with the highest number of products sold?**"
   ]
  },
  {
   "cell_type": "code",
   "execution_count": 20,
   "id": "-CUMMq9RRZZe",
   "metadata": {
    "id": "-CUMMq9RRZZe"
   },
   "outputs": [
    {
     "data": {
      "text/plain": [
       "id_order\n",
       "438871    72\n",
       "495987    50\n",
       "507768    37\n",
       "300475    35\n",
       "432242    35\n",
       "468784    33\n",
       "Name: product_quantity, dtype: int64"
      ]
     },
     "execution_count": 20,
     "metadata": {},
     "output_type": "execute_result"
    }
   ],
   "source": [
    "(\n",
    "date_com[date_com['state'] == 'Completed']\n",
    "    .groupby('id_order')\n",
    "    .product_quantity\n",
    "    .sum()\n",
    "    .sort_values(ascending=False)\n",
    "    .head(6)\n",
    ")"
   ]
  },
  {
   "cell_type": "markdown",
   "id": "6edda824",
   "metadata": {
    "id": "6edda824"
   },
   "source": [
    "**2. Which are the top 6 orders for the 1 of July of 2017?**\n",
    "\n",
    "Combining `.assign()` with `.dt.date` will help you extract the date of a datetime column and use this information to filter it. Use the `datetime` module and its `date.fromisoformat()` method as we showed above.\n",
    "\n",
    "Here is an example how to filter the first of January 2017."
   ]
  },
  {
   "cell_type": "code",
   "execution_count": 21,
   "id": "85ef8845",
   "metadata": {
    "id": "85ef8845"
   },
   "outputs": [
    {
     "data": {
      "text/plain": [
       "id_order\n",
       "371309    7\n",
       "371263    4\n",
       "370965    3\n",
       "371052    3\n",
       "371291    3\n",
       "371293    3\n",
       "Name: product_quantity, dtype: int64"
      ]
     },
     "execution_count": 21,
     "metadata": {},
     "output_type": "execute_result"
    }
   ],
   "source": [
    "(\n",
    "date_com[(date_com['date'].dt.date == datetime.date.fromisoformat('2017-07-01')) & (date_com['state'] == 'Completed')]\n",
    "    .groupby('id_order') \n",
    "    .product_quantity\n",
    "    .sum()\n",
    "    .sort_values(ascending=False)\n",
    "    .head(6)\n",
    ")"
   ]
  },
  {
   "cell_type": "markdown",
   "id": "ee28a26d",
   "metadata": {
    "id": "ee28a26d"
   },
   "source": [
    "**3. Which is the month with the highest number of units sold?** \n",
    "\n",
    "Remember to look at the documentation of [`datetime.strftime()`](https://docs.python.org/3/library/datetime.html#strftime-and-strptime-behavior) "
   ]
  },
  {
   "cell_type": "code",
   "execution_count": 22,
   "id": "414c785d",
   "metadata": {
    "id": "414c785d"
   },
   "outputs": [
    {
     "data": {
      "text/html": [
       "<div>\n",
       "<style scoped>\n",
       "    .dataframe tbody tr th:only-of-type {\n",
       "        vertical-align: middle;\n",
       "    }\n",
       "\n",
       "    .dataframe tbody tr th {\n",
       "        vertical-align: top;\n",
       "    }\n",
       "\n",
       "    .dataframe thead th {\n",
       "        text-align: right;\n",
       "    }\n",
       "</style>\n",
       "<table border=\"1\" class=\"dataframe\">\n",
       "  <thead>\n",
       "    <tr style=\"text-align: right;\">\n",
       "      <th></th>\n",
       "      <th></th>\n",
       "      <th>prdt_sum</th>\n",
       "    </tr>\n",
       "    <tr>\n",
       "      <th>year</th>\n",
       "      <th>month</th>\n",
       "      <th></th>\n",
       "    </tr>\n",
       "  </thead>\n",
       "  <tbody>\n",
       "    <tr>\n",
       "      <th>2017</th>\n",
       "      <th>November</th>\n",
       "      <td>11190</td>\n",
       "    </tr>\n",
       "    <tr>\n",
       "      <th>2018</th>\n",
       "      <th>January</th>\n",
       "      <td>7688</td>\n",
       "    </tr>\n",
       "  </tbody>\n",
       "</table>\n",
       "</div>"
      ],
      "text/plain": [
       "               prdt_sum\n",
       "year month             \n",
       "2017 November     11190\n",
       "2018 January       7688"
      ]
     },
     "execution_count": 22,
     "metadata": {},
     "output_type": "execute_result"
    }
   ],
   "source": [
    "(\n",
    "date_com.assign(month = date_com['date'].dt.strftime('%B')).assign(year = date_com['date'].dt.strftime('%Y')).copy()[date_com['state'] == 'Completed']\n",
    "    .groupby(['year', 'month'])\n",
    "    .agg(prdt_sum=('product_quantity','sum'))\n",
    "    .sort_values(by='prdt_sum', ascending=False)\n",
    "    .groupby('year')\n",
    "    .head(1)\n",
    ")"
   ]
  },
  {
   "cell_type": "markdown",
   "id": "0e9d48c8",
   "metadata": {
    "id": "0e9d48c8"
   },
   "source": [
    "The results enormous differences between some months. Why do you think this is happening? Do we only have one year of data? In case you have multiple years, filter for only years that are complete to find out the best month for that year.\n",
    "\n",
    "Tip: the output of the function `.dt.strftime()` is a string, so if you use it in a condition it will only match with strings!"
   ]
  },
  {
   "cell_type": "markdown",
   "id": "8ff587b3",
   "metadata": {
    "id": "8ff587b3"
   },
   "source": [
    "**4. For each month, find the day of the week with the highest amount of products sold** \n"
   ]
  },
  {
   "cell_type": "code",
   "execution_count": 23,
   "id": "93a4103c",
   "metadata": {
    "id": "93a4103c"
   },
   "outputs": [
    {
     "data": {
      "text/html": [
       "<div>\n",
       "<style scoped>\n",
       "    .dataframe tbody tr th:only-of-type {\n",
       "        vertical-align: middle;\n",
       "    }\n",
       "\n",
       "    .dataframe tbody tr th {\n",
       "        vertical-align: top;\n",
       "    }\n",
       "\n",
       "    .dataframe thead th {\n",
       "        text-align: right;\n",
       "    }\n",
       "</style>\n",
       "<table border=\"1\" class=\"dataframe\">\n",
       "  <thead>\n",
       "    <tr style=\"text-align: right;\">\n",
       "      <th></th>\n",
       "      <th></th>\n",
       "      <th></th>\n",
       "      <th>prdt_sum</th>\n",
       "    </tr>\n",
       "    <tr>\n",
       "      <th>year</th>\n",
       "      <th>month</th>\n",
       "      <th>week_day</th>\n",
       "      <th></th>\n",
       "    </tr>\n",
       "  </thead>\n",
       "  <tbody>\n",
       "    <tr>\n",
       "      <th rowspan=\"2\" valign=\"top\">2017</th>\n",
       "      <th>November</th>\n",
       "      <th>Friday</th>\n",
       "      <td>3043</td>\n",
       "    </tr>\n",
       "    <tr>\n",
       "      <th>January</th>\n",
       "      <th>Monday</th>\n",
       "      <td>2010</td>\n",
       "    </tr>\n",
       "    <tr>\n",
       "      <th>2018</th>\n",
       "      <th>January</th>\n",
       "      <th>Tuesday</th>\n",
       "      <td>1718</td>\n",
       "    </tr>\n",
       "    <tr>\n",
       "      <th rowspan=\"3\" valign=\"top\">2017</th>\n",
       "      <th>December</th>\n",
       "      <th>Friday</th>\n",
       "      <td>1373</td>\n",
       "    </tr>\n",
       "    <tr>\n",
       "      <th>July</th>\n",
       "      <th>Monday</th>\n",
       "      <td>1368</td>\n",
       "    </tr>\n",
       "    <tr>\n",
       "      <th>October</th>\n",
       "      <th>Monday</th>\n",
       "      <td>1142</td>\n",
       "    </tr>\n",
       "    <tr>\n",
       "      <th>2018</th>\n",
       "      <th>February</th>\n",
       "      <th>Wednesday</th>\n",
       "      <td>1013</td>\n",
       "    </tr>\n",
       "    <tr>\n",
       "      <th rowspan=\"4\" valign=\"top\">2017</th>\n",
       "      <th>February</th>\n",
       "      <th>Wednesday</th>\n",
       "      <td>709</td>\n",
       "    </tr>\n",
       "    <tr>\n",
       "      <th>August</th>\n",
       "      <th>Tuesday</th>\n",
       "      <td>695</td>\n",
       "    </tr>\n",
       "    <tr>\n",
       "      <th>September</th>\n",
       "      <th>Monday</th>\n",
       "      <td>647</td>\n",
       "    </tr>\n",
       "    <tr>\n",
       "      <th>May</th>\n",
       "      <th>Wednesday</th>\n",
       "      <td>617</td>\n",
       "    </tr>\n",
       "    <tr>\n",
       "      <th>2018</th>\n",
       "      <th>March</th>\n",
       "      <th>Friday</th>\n",
       "      <td>495</td>\n",
       "    </tr>\n",
       "    <tr>\n",
       "      <th rowspan=\"3\" valign=\"top\">2017</th>\n",
       "      <th>June</th>\n",
       "      <th>Thursday</th>\n",
       "      <td>489</td>\n",
       "    </tr>\n",
       "    <tr>\n",
       "      <th>April</th>\n",
       "      <th>Friday</th>\n",
       "      <td>483</td>\n",
       "    </tr>\n",
       "    <tr>\n",
       "      <th>March</th>\n",
       "      <th>Friday</th>\n",
       "      <td>71</td>\n",
       "    </tr>\n",
       "  </tbody>\n",
       "</table>\n",
       "</div>"
      ],
      "text/plain": [
       "                          prdt_sum\n",
       "year month     week_day           \n",
       "2017 November  Friday         3043\n",
       "     January   Monday         2010\n",
       "2018 January   Tuesday        1718\n",
       "2017 December  Friday         1373\n",
       "     July      Monday         1368\n",
       "     October   Monday         1142\n",
       "2018 February  Wednesday      1013\n",
       "2017 February  Wednesday       709\n",
       "     August    Tuesday         695\n",
       "     September Monday          647\n",
       "     May       Wednesday       617\n",
       "2018 March     Friday          495\n",
       "2017 June      Thursday        489\n",
       "     April     Friday          483\n",
       "     March     Friday           71"
      ]
     },
     "execution_count": 23,
     "metadata": {},
     "output_type": "execute_result"
    }
   ],
   "source": [
    "(\n",
    "date_com\n",
    "    .assign(month = date_com['date'].dt.strftime('%B'))\n",
    "    .assign(year = date_com['date'].dt.strftime('%Y'))\n",
    "    .assign(week_day = date_com['date'].dt.strftime('%A'))\n",
    "    .copy()[date_com['state'] == 'Completed']\n",
    "    .groupby(['year', 'month', 'week_day'])\n",
    "    .agg(prdt_sum=('product_quantity','sum'))\n",
    "    .sort_values(by='prdt_sum', ascending=False)\n",
    "    .groupby(['year', 'month'])\n",
    "    .head(1)\n",
    ")"
   ]
  },
  {
   "cell_type": "code",
   "execution_count": 24,
   "id": "9a409178-6e14-45bc-a966-7b002ac428f9",
   "metadata": {},
   "outputs": [
    {
     "data": {
      "text/html": [
       "<div>\n",
       "<style scoped>\n",
       "    .dataframe tbody tr th:only-of-type {\n",
       "        vertical-align: middle;\n",
       "    }\n",
       "\n",
       "    .dataframe tbody tr th {\n",
       "        vertical-align: top;\n",
       "    }\n",
       "\n",
       "    .dataframe thead th {\n",
       "        text-align: right;\n",
       "    }\n",
       "</style>\n",
       "<table border=\"1\" class=\"dataframe\">\n",
       "  <thead>\n",
       "    <tr style=\"text-align: right;\">\n",
       "      <th></th>\n",
       "      <th>year</th>\n",
       "      <th>month</th>\n",
       "      <th>week_day</th>\n",
       "      <th>prdt_sum</th>\n",
       "    </tr>\n",
       "  </thead>\n",
       "  <tbody>\n",
       "    <tr>\n",
       "      <th>63</th>\n",
       "      <td>2017</td>\n",
       "      <td>November</td>\n",
       "      <td>Friday</td>\n",
       "      <td>3043</td>\n",
       "    </tr>\n",
       "    <tr>\n",
       "      <th>29</th>\n",
       "      <td>2017</td>\n",
       "      <td>January</td>\n",
       "      <td>Monday</td>\n",
       "      <td>2010</td>\n",
       "    </tr>\n",
       "    <tr>\n",
       "      <th>96</th>\n",
       "      <td>2018</td>\n",
       "      <td>January</td>\n",
       "      <td>Tuesday</td>\n",
       "      <td>1718</td>\n",
       "    </tr>\n",
       "    <tr>\n",
       "      <th>14</th>\n",
       "      <td>2017</td>\n",
       "      <td>December</td>\n",
       "      <td>Friday</td>\n",
       "      <td>1373</td>\n",
       "    </tr>\n",
       "    <tr>\n",
       "      <th>36</th>\n",
       "      <td>2017</td>\n",
       "      <td>July</td>\n",
       "      <td>Monday</td>\n",
       "      <td>1368</td>\n",
       "    </tr>\n",
       "    <tr>\n",
       "      <th>71</th>\n",
       "      <td>2017</td>\n",
       "      <td>October</td>\n",
       "      <td>Monday</td>\n",
       "      <td>1142</td>\n",
       "    </tr>\n",
       "    <tr>\n",
       "      <th>90</th>\n",
       "      <td>2018</td>\n",
       "      <td>February</td>\n",
       "      <td>Wednesday</td>\n",
       "      <td>1013</td>\n",
       "    </tr>\n",
       "    <tr>\n",
       "      <th>27</th>\n",
       "      <td>2017</td>\n",
       "      <td>February</td>\n",
       "      <td>Wednesday</td>\n",
       "      <td>709</td>\n",
       "    </tr>\n",
       "    <tr>\n",
       "      <th>12</th>\n",
       "      <td>2017</td>\n",
       "      <td>August</td>\n",
       "      <td>Tuesday</td>\n",
       "      <td>695</td>\n",
       "    </tr>\n",
       "    <tr>\n",
       "      <th>78</th>\n",
       "      <td>2017</td>\n",
       "      <td>September</td>\n",
       "      <td>Monday</td>\n",
       "      <td>647</td>\n",
       "    </tr>\n",
       "    <tr>\n",
       "      <th>62</th>\n",
       "      <td>2017</td>\n",
       "      <td>May</td>\n",
       "      <td>Wednesday</td>\n",
       "      <td>617</td>\n",
       "    </tr>\n",
       "    <tr>\n",
       "      <th>98</th>\n",
       "      <td>2018</td>\n",
       "      <td>March</td>\n",
       "      <td>Friday</td>\n",
       "      <td>495</td>\n",
       "    </tr>\n",
       "    <tr>\n",
       "      <th>46</th>\n",
       "      <td>2017</td>\n",
       "      <td>June</td>\n",
       "      <td>Thursday</td>\n",
       "      <td>489</td>\n",
       "    </tr>\n",
       "    <tr>\n",
       "      <th>0</th>\n",
       "      <td>2017</td>\n",
       "      <td>April</td>\n",
       "      <td>Friday</td>\n",
       "      <td>483</td>\n",
       "    </tr>\n",
       "    <tr>\n",
       "      <th>49</th>\n",
       "      <td>2017</td>\n",
       "      <td>March</td>\n",
       "      <td>Friday</td>\n",
       "      <td>71</td>\n",
       "    </tr>\n",
       "  </tbody>\n",
       "</table>\n",
       "</div>"
      ],
      "text/plain": [
       "    year      month   week_day  prdt_sum\n",
       "63  2017   November     Friday      3043\n",
       "29  2017    January     Monday      2010\n",
       "96  2018    January    Tuesday      1718\n",
       "14  2017   December     Friday      1373\n",
       "36  2017       July     Monday      1368\n",
       "71  2017    October     Monday      1142\n",
       "90  2018   February  Wednesday      1013\n",
       "27  2017   February  Wednesday       709\n",
       "12  2017     August    Tuesday       695\n",
       "78  2017  September     Monday       647\n",
       "62  2017        May  Wednesday       617\n",
       "98  2018      March     Friday       495\n",
       "46  2017       June   Thursday       489\n",
       "0   2017      April     Friday       483\n",
       "49  2017      March     Friday        71"
      ]
     },
     "execution_count": 24,
     "metadata": {},
     "output_type": "execute_result"
    }
   ],
   "source": [
    "(\n",
    "date_com\n",
    "    .assign(month = date_com['date'].dt.strftime('%B'))\n",
    "    .assign(year = date_com['date'].dt.strftime('%Y'))\n",
    "    .assign(week_day = date_com['date'].dt.strftime('%A'))\n",
    "    .copy()[date_com['state'] == 'Completed']\n",
    "    .groupby(['year', 'month', 'week_day'])\n",
    "    .agg(prdt_sum=('product_quantity','sum'))\n",
    "    .reset_index()\n",
    "    .sort_values(by='prdt_sum', ascending=False)\n",
    "    .groupby(['year', 'month'])\n",
    "    .head(1)\n",
    ")"
   ]
  },
  {
   "cell_type": "code",
   "execution_count": 25,
   "id": "9f92bfd3-5db2-4942-8468-27e2f0aa2825",
   "metadata": {},
   "outputs": [
    {
     "data": {
      "text/html": [
       "<div>\n",
       "<style scoped>\n",
       "    .dataframe tbody tr th:only-of-type {\n",
       "        vertical-align: middle;\n",
       "    }\n",
       "\n",
       "    .dataframe tbody tr th {\n",
       "        vertical-align: top;\n",
       "    }\n",
       "\n",
       "    .dataframe thead th {\n",
       "        text-align: right;\n",
       "    }\n",
       "</style>\n",
       "<table border=\"1\" class=\"dataframe\">\n",
       "  <thead>\n",
       "    <tr style=\"text-align: right;\">\n",
       "      <th></th>\n",
       "      <th>year</th>\n",
       "      <th>month</th>\n",
       "      <th>week_day</th>\n",
       "      <th>prdt_sum</th>\n",
       "    </tr>\n",
       "  </thead>\n",
       "  <tbody>\n",
       "    <tr>\n",
       "      <th>59</th>\n",
       "      <td>2017</td>\n",
       "      <td>April</td>\n",
       "      <td>Friday</td>\n",
       "      <td>483</td>\n",
       "    </tr>\n",
       "    <tr>\n",
       "      <th>36</th>\n",
       "      <td>2017</td>\n",
       "      <td>August</td>\n",
       "      <td>Tuesday</td>\n",
       "      <td>695</td>\n",
       "    </tr>\n",
       "    <tr>\n",
       "      <th>8</th>\n",
       "      <td>2017</td>\n",
       "      <td>December</td>\n",
       "      <td>Friday</td>\n",
       "      <td>1373</td>\n",
       "    </tr>\n",
       "    <tr>\n",
       "      <th>34</th>\n",
       "      <td>2017</td>\n",
       "      <td>February</td>\n",
       "      <td>Wednesday</td>\n",
       "      <td>709</td>\n",
       "    </tr>\n",
       "    <tr>\n",
       "      <th>2</th>\n",
       "      <td>2017</td>\n",
       "      <td>January</td>\n",
       "      <td>Monday</td>\n",
       "      <td>2010</td>\n",
       "    </tr>\n",
       "    <tr>\n",
       "      <th>9</th>\n",
       "      <td>2017</td>\n",
       "      <td>July</td>\n",
       "      <td>Monday</td>\n",
       "      <td>1368</td>\n",
       "    </tr>\n",
       "    <tr>\n",
       "      <th>58</th>\n",
       "      <td>2017</td>\n",
       "      <td>June</td>\n",
       "      <td>Thursday</td>\n",
       "      <td>489</td>\n",
       "    </tr>\n",
       "    <tr>\n",
       "      <th>98</th>\n",
       "      <td>2017</td>\n",
       "      <td>March</td>\n",
       "      <td>Friday</td>\n",
       "      <td>71</td>\n",
       "    </tr>\n",
       "    <tr>\n",
       "      <th>45</th>\n",
       "      <td>2017</td>\n",
       "      <td>May</td>\n",
       "      <td>Wednesday</td>\n",
       "      <td>617</td>\n",
       "    </tr>\n",
       "    <tr>\n",
       "      <th>0</th>\n",
       "      <td>2017</td>\n",
       "      <td>November</td>\n",
       "      <td>Friday</td>\n",
       "      <td>3043</td>\n",
       "    </tr>\n",
       "    <tr>\n",
       "      <th>14</th>\n",
       "      <td>2017</td>\n",
       "      <td>October</td>\n",
       "      <td>Monday</td>\n",
       "      <td>1142</td>\n",
       "    </tr>\n",
       "    <tr>\n",
       "      <th>41</th>\n",
       "      <td>2017</td>\n",
       "      <td>September</td>\n",
       "      <td>Monday</td>\n",
       "      <td>647</td>\n",
       "    </tr>\n",
       "    <tr>\n",
       "      <th>19</th>\n",
       "      <td>2018</td>\n",
       "      <td>February</td>\n",
       "      <td>Wednesday</td>\n",
       "      <td>1013</td>\n",
       "    </tr>\n",
       "    <tr>\n",
       "      <th>4</th>\n",
       "      <td>2018</td>\n",
       "      <td>January</td>\n",
       "      <td>Tuesday</td>\n",
       "      <td>1718</td>\n",
       "    </tr>\n",
       "    <tr>\n",
       "      <th>57</th>\n",
       "      <td>2018</td>\n",
       "      <td>March</td>\n",
       "      <td>Friday</td>\n",
       "      <td>495</td>\n",
       "    </tr>\n",
       "  </tbody>\n",
       "</table>\n",
       "</div>"
      ],
      "text/plain": [
       "    year      month   week_day  prdt_sum\n",
       "59  2017      April     Friday       483\n",
       "36  2017     August    Tuesday       695\n",
       "8   2017   December     Friday      1373\n",
       "34  2017   February  Wednesday       709\n",
       "2   2017    January     Monday      2010\n",
       "9   2017       July     Monday      1368\n",
       "58  2017       June   Thursday       489\n",
       "98  2017      March     Friday        71\n",
       "45  2017        May  Wednesday       617\n",
       "0   2017   November     Friday      3043\n",
       "14  2017    October     Monday      1142\n",
       "41  2017  September     Monday       647\n",
       "19  2018   February  Wednesday      1013\n",
       "4   2018    January    Tuesday      1718\n",
       "57  2018      March     Friday       495"
      ]
     },
     "execution_count": 25,
     "metadata": {},
     "output_type": "execute_result"
    }
   ],
   "source": [
    "(\n",
    "date_com\n",
    "    .assign(month = date_com['date'].dt.strftime('%B'))\n",
    "    .assign(year = date_com['date'].dt.strftime('%Y'))\n",
    "    .assign(week_day = date_com['date'].dt.strftime('%A'))\n",
    "    .copy()[date_com['state'] == 'Completed']\n",
    "    .groupby(['year', 'month', 'week_day'])\n",
    "    .agg(prdt_sum=('product_quantity','sum'))\n",
    "    .sort_values(by='prdt_sum', ascending=False)\n",
    "    .reset_index()\n",
    "    .groupby(['year', 'month'])\n",
    "    .head(1)\n",
    "    .sort_values(by=['year', 'month'], ascending=True)\n",
    ")"
   ]
  }
 ],
 "metadata": {
  "colab": {
   "collapsed_sections": [
    "d2723d0f",
    "5c63a3e7"
   ],
   "name": "2-data-aggregation-datetimes.ipynb",
   "provenance": []
  },
  "kernelspec": {
   "display_name": "Python 3 (ipykernel)",
   "language": "python",
   "name": "python3"
  },
  "language_info": {
   "codemirror_mode": {
    "name": "ipython",
    "version": 3
   },
   "file_extension": ".py",
   "mimetype": "text/x-python",
   "name": "python",
   "nbconvert_exporter": "python",
   "pygments_lexer": "ipython3",
   "version": "3.9.12"
  }
 },
 "nbformat": 4,
 "nbformat_minor": 5
}
