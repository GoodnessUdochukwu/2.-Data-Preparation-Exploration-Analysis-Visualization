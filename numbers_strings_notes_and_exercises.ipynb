{
 "cells": [
  {
   "cell_type": "markdown",
   "metadata": {
    "id": "GG8cSDex9jqw"
   },
   "source": [
    "# Numbers and Strings\n",
    "\n",
    "In Python, like in any other programming language and in general in life, we _do things_ with _stuff_. Most of this course will focus on the things we do and how to do them. But today we will talk about the stuff.\n",
    "\n",
    "Almost everything in Python is an object. We will deal with numbers, text, lists, dictionaries... all of those things are different types of Python objects.\n",
    "\n",
    "The type of an object defines what can you do with it, and how will it behave. You can sum two numbers and they will behave just as mathematics define that sums work:"
   ]
  },
  {
   "cell_type": "code",
   "execution_count": 1,
   "metadata": {
    "colab": {
     "base_uri": "https://localhost:8080/"
    },
    "id": "3sGGztmy9jqz",
    "outputId": "c5a05f4c-4fcb-45c8-8236-a594261ec9d4"
   },
   "outputs": [
    {
     "data": {
      "text/plain": [
       "4"
      ]
     },
     "execution_count": 1,
     "metadata": {},
     "output_type": "execute_result"
    }
   ],
   "source": [
    "2 + 2"
   ]
  },
  {
   "cell_type": "markdown",
   "metadata": {
    "id": "P--VHI4w9jq2"
   },
   "source": [
    "But if you try to sum two strings, he behaviour will be different:"
   ]
  },
  {
   "cell_type": "code",
   "execution_count": null,
   "metadata": {
    "id": "Vbnc7Kfh9jq3"
   },
   "outputs": [],
   "source": [
    "\"2\" + \"2\""
   ]
  },
  {
   "cell_type": "markdown",
   "metadata": {
    "id": "1vXMNDRA9jq3"
   },
   "source": [
    "Any object in Python can be assigned to a variable with the `=` operator. Variables are just names for objects —you can visualize them as tags that allow us to identify or call our objects."
   ]
  },
  {
   "cell_type": "code",
   "execution_count": 2,
   "metadata": {
    "id": "_580VfMW9jq4"
   },
   "outputs": [],
   "source": [
    "result = 4 + 3"
   ]
  },
  {
   "cell_type": "markdown",
   "metadata": {
    "id": "gMrCtWGE9jq4"
   },
   "source": [
    "At any point, we can retrieve whatever we stored in a variable that was previously defined:"
   ]
  },
  {
   "cell_type": "code",
   "execution_count": 3,
   "metadata": {
    "colab": {
     "base_uri": "https://localhost:8080/"
    },
    "id": "AaWJYeHW9jq5",
    "outputId": "70f15a0e-4432-4565-88b2-23c168486f79"
   },
   "outputs": [
    {
     "name": "stdout",
     "output_type": "stream",
     "text": [
      "7\n"
     ]
    }
   ],
   "source": [
    "print(result)"
   ]
  },
  {
   "cell_type": "markdown",
   "metadata": {
    "id": "-xH_7viN9jq5"
   },
   "source": [
    "If we want to find out what type of object does a variable hold, we can ask it with the function `type()`, like this:"
   ]
  },
  {
   "cell_type": "code",
   "execution_count": 4,
   "metadata": {
    "colab": {
     "base_uri": "https://localhost:8080/"
    },
    "id": "gU3ZbrAk9jq6",
    "outputId": "29408ad6-1f1d-4948-e559-789426f733e7"
   },
   "outputs": [
    {
     "data": {
      "text/plain": [
       "int"
      ]
     },
     "execution_count": 4,
     "metadata": {},
     "output_type": "execute_result"
    }
   ],
   "source": [
    "type(result)"
   ]
  },
  {
   "cell_type": "markdown",
   "metadata": {
    "id": "e3r8xQc-9jq6"
   },
   "source": [
    "**Exercise:** Sum `100` plus `3.4` and assign it to the variable `addition`. Print the type of that variable."
   ]
  },
  {
   "cell_type": "code",
   "execution_count": 6,
   "metadata": {
    "id": "MC6QjWi29jq6"
   },
   "outputs": [],
   "source": [
    "addition = 100 + 3.4"
   ]
  },
  {
   "cell_type": "markdown",
   "metadata": {
    "id": "uBveabbD9jq7"
   },
   "source": [
    "## Booleans\n",
    "\n",
    "The values `True` and `False` are special in Python. They are called \"booleans\"."
   ]
  },
  {
   "cell_type": "code",
   "execution_count": 7,
   "metadata": {
    "colab": {
     "base_uri": "https://localhost:8080/"
    },
    "id": "cAlYm9kJ9jq7",
    "outputId": "9bb202f5-335e-4b02-dcdf-05dbd9ea2c94"
   },
   "outputs": [
    {
     "data": {
      "text/plain": [
       "bool"
      ]
     },
     "execution_count": 7,
     "metadata": {},
     "output_type": "execute_result"
    }
   ],
   "source": [
    "type(True)"
   ]
  },
  {
   "cell_type": "code",
   "execution_count": 8,
   "metadata": {
    "colab": {
     "base_uri": "https://localhost:8080/"
    },
    "id": "AXToyxAt9jq7",
    "outputId": "d93f8af7-1899-41d9-9ef6-3fd0161ec65f"
   },
   "outputs": [
    {
     "data": {
      "text/plain": [
       "bool"
      ]
     },
     "execution_count": 8,
     "metadata": {},
     "output_type": "execute_result"
    }
   ],
   "source": [
    "type(False)"
   ]
  },
  {
   "cell_type": "markdown",
   "metadata": {
    "id": "J1Ltqfls9jq7"
   },
   "source": [
    "If you try to use mathematical operations with booleans, will see how `True` equates to `1` and `False` equates to `0`\n"
   ]
  },
  {
   "cell_type": "code",
   "execution_count": 9,
   "metadata": {
    "colab": {
     "base_uri": "https://localhost:8080/"
    },
    "id": "mwsFtaDZ9jq8",
    "outputId": "7c6834f5-86e8-435b-ae1f-ffbd543733f3"
   },
   "outputs": [
    {
     "data": {
      "text/plain": [
       "2"
      ]
     },
     "execution_count": 9,
     "metadata": {},
     "output_type": "execute_result"
    }
   ],
   "source": [
    "True + True"
   ]
  },
  {
   "cell_type": "code",
   "execution_count": 10,
   "metadata": {
    "colab": {
     "base_uri": "https://localhost:8080/"
    },
    "id": "HhT2fJJJ9jq8",
    "outputId": "c757b0bf-3c11-41ee-e4da-0bb1b1ecf827"
   },
   "outputs": [
    {
     "data": {
      "text/plain": [
       "0"
      ]
     },
     "execution_count": 10,
     "metadata": {},
     "output_type": "execute_result"
    }
   ],
   "source": [
    "False + False"
   ]
  },
  {
   "cell_type": "markdown",
   "metadata": {
    "id": "mIrc9DDk9jq8"
   },
   "source": [
    "## Integers\n",
    "\n",
    "Integers are whole numbers (without fractions or decimal points) that can be negative or positive."
   ]
  },
  {
   "cell_type": "code",
   "execution_count": 11,
   "metadata": {
    "colab": {
     "base_uri": "https://localhost:8080/"
    },
    "id": "mLef5s7O9jq8",
    "outputId": "16d89194-f64b-477a-d33d-434532f9222f"
   },
   "outputs": [
    {
     "data": {
      "text/plain": [
       "int"
      ]
     },
     "execution_count": 11,
     "metadata": {},
     "output_type": "execute_result"
    }
   ],
   "source": [
    "type(-8)"
   ]
  },
  {
   "cell_type": "markdown",
   "metadata": {
    "id": "TGTFBWwS9jq9"
   },
   "source": [
    "You can use math operators with integers:\n",
    "\n",
    "- `+` Addition\n",
    "- `-` Substraction\n",
    "- `*` Multiplication\n",
    "- `/` Floating-point division\n",
    "- `//` Truncating division\n",
    "- `%` Modulus\n",
    "- `**` Exponentiation"
   ]
  },
  {
   "cell_type": "markdown",
   "metadata": {
    "id": "RdTqurnS9jq9"
   },
   "source": [
    "**Exercise**: assign the number corresponding to the present year to the variable `year` and your age to the variable `age`. Operate with both variables to create a new variable called `birth_year`."
   ]
  },
  {
   "cell_type": "code",
   "execution_count": 12,
   "metadata": {
    "id": "LWxyFfCj9jq9"
   },
   "outputs": [],
   "source": [
    "year = 2022\n",
    "age = 20"
   ]
  },
  {
   "cell_type": "markdown",
   "metadata": {
    "id": "9HB_1T5j9jq9"
   },
   "source": [
    "You can update the value of a variable like this:"
   ]
  },
  {
   "cell_type": "code",
   "execution_count": 13,
   "metadata": {
    "colab": {
     "base_uri": "https://localhost:8080/"
    },
    "id": "hexmreCK9jq9",
    "outputId": "5ecd6cf4-6698-440d-c14c-2fecd7ea2ebc"
   },
   "outputs": [
    {
     "name": "stdout",
     "output_type": "stream",
     "text": [
      "31\n"
     ]
    }
   ],
   "source": [
    "age = 30\n",
    "age = age + 1\n",
    "print(age)"
   ]
  },
  {
   "cell_type": "markdown",
   "metadata": {
    "id": "fOg2IqIi9jq-"
   },
   "source": [
    "Or you can combine both arithmetic operators:"
   ]
  },
  {
   "cell_type": "code",
   "execution_count": 14,
   "metadata": {
    "colab": {
     "base_uri": "https://localhost:8080/"
    },
    "id": "sYAzFGxI9jq-",
    "outputId": "987d2117-3d65-455c-d773-b48d43ccc97a"
   },
   "outputs": [
    {
     "name": "stdout",
     "output_type": "stream",
     "text": [
      "31\n"
     ]
    }
   ],
   "source": [
    "age = 30\n",
    "age += 1\n",
    "print(age)"
   ]
  },
  {
   "cell_type": "markdown",
   "metadata": {
    "id": "1jGUon5V9jq-"
   },
   "source": [
    "**Exercise**: The same holds for other operators. Create a variable called `price` with the value `100`. Then update its value in a single line by multiplying it by `2`."
   ]
  },
  {
   "cell_type": "code",
   "execution_count": 15,
   "metadata": {
    "id": "y18avwiY9jq-"
   },
   "outputs": [],
   "source": [
    "price = 100\n",
    "price *= 2"
   ]
  },
  {
   "cell_type": "markdown",
   "metadata": {
    "id": "2GvpaJ819jq_"
   },
   "source": [
    "You can convert stuff that's not an integer to an integer with the function `int`:"
   ]
  },
  {
   "cell_type": "code",
   "execution_count": 16,
   "metadata": {
    "colab": {
     "base_uri": "https://localhost:8080/"
    },
    "id": "cwre3wND9jq_",
    "outputId": "0bb60c39-8390-4141-b1a9-43db7b158075"
   },
   "outputs": [
    {
     "data": {
      "text/plain": [
       "3"
      ]
     },
     "execution_count": 16,
     "metadata": {},
     "output_type": "execute_result"
    }
   ],
   "source": [
    "int(3.14)"
   ]
  },
  {
   "cell_type": "code",
   "execution_count": 17,
   "metadata": {
    "colab": {
     "base_uri": "https://localhost:8080/"
    },
    "id": "oZTt6ynH9jrA",
    "outputId": "23a84670-5a0e-4955-830b-4a1baf818535"
   },
   "outputs": [
    {
     "data": {
      "text/plain": [
       "4"
      ]
     },
     "execution_count": 17,
     "metadata": {},
     "output_type": "execute_result"
    }
   ],
   "source": [
    "int(\"4\")"
   ]
  },
  {
   "cell_type": "markdown",
   "metadata": {
    "id": "npt0J-8m9jrA"
   },
   "source": [
    "If you try to convert to an integer something that cannot be interpreted as such, you will get an *exception*:"
   ]
  },
  {
   "cell_type": "code",
   "execution_count": 18,
   "metadata": {
    "colab": {
     "base_uri": "https://localhost:8080/",
     "height": 165
    },
    "id": "uQ4cUvAu9jrA",
    "outputId": "afe445d2-9b82-4179-b23c-68f4127b9707"
   },
   "outputs": [
    {
     "ename": "ValueError",
     "evalue": "ignored",
     "output_type": "error",
     "traceback": [
      "\u001b[0;31m---------------------------------------------------------------------------\u001b[0m",
      "\u001b[0;31mValueError\u001b[0m                                Traceback (most recent call last)",
      "\u001b[0;32m<ipython-input-18-159e72cb0883>\u001b[0m in \u001b[0;36m<module>\u001b[0;34m()\u001b[0m\n\u001b[0;32m----> 1\u001b[0;31m \u001b[0mint\u001b[0m\u001b[0;34m(\u001b[0m\u001b[0;34m\"Hey hey hey\"\u001b[0m\u001b[0;34m)\u001b[0m\u001b[0;34m\u001b[0m\u001b[0;34m\u001b[0m\u001b[0m\n\u001b[0m",
      "\u001b[0;31mValueError\u001b[0m: invalid literal for int() with base 10: 'Hey hey hey'"
     ]
    }
   ],
   "source": [
    "int(\"Hey hey hey\")"
   ]
  },
  {
   "cell_type": "markdown",
   "metadata": {
    "id": "79CbyD_G9jrA"
   },
   "source": [
    "## Floats\n",
    "\n",
    "Those are numbers with decimal points"
   ]
  },
  {
   "cell_type": "code",
   "execution_count": 19,
   "metadata": {
    "colab": {
     "base_uri": "https://localhost:8080/"
    },
    "id": "cprwKJOd9jrA",
    "outputId": "9dd12ca0-550f-4bc8-c720-07dc35ce4f80"
   },
   "outputs": [
    {
     "data": {
      "text/plain": [
       "3.0"
      ]
     },
     "execution_count": 19,
     "metadata": {},
     "output_type": "execute_result"
    }
   ],
   "source": [
    "3."
   ]
  },
  {
   "cell_type": "markdown",
   "metadata": {
    "id": "n87g1nka9jrA"
   },
   "source": [
    "They can include the letter e for an exponent:"
   ]
  },
  {
   "cell_type": "code",
   "execution_count": 20,
   "metadata": {
    "colab": {
     "base_uri": "https://localhost:8080/"
    },
    "id": "EVKKC8s_9jrA",
    "outputId": "7c31210d-8c37-498e-b1bc-7d8612ab7eab"
   },
   "outputs": [
    {
     "data": {
      "text/plain": [
       "300.0"
      ]
     },
     "execution_count": 20,
     "metadata": {},
     "output_type": "execute_result"
    }
   ],
   "source": [
    "3e2"
   ]
  },
  {
   "cell_type": "markdown",
   "metadata": {
    "id": "br3KdAjT9jrA"
   },
   "source": [
    "The function `float()` can be used to convert integers to floats:"
   ]
  },
  {
   "cell_type": "code",
   "execution_count": 21,
   "metadata": {
    "colab": {
     "base_uri": "https://localhost:8080/"
    },
    "id": "ySxvm6mG9jrB",
    "outputId": "033540ce-6d68-413f-df83-44c862e97885"
   },
   "outputs": [
    {
     "data": {
      "text/plain": [
       "24.0"
      ]
     },
     "execution_count": 21,
     "metadata": {},
     "output_type": "execute_result"
    }
   ],
   "source": [
    "float(24)"
   ]
  },
  {
   "cell_type": "markdown",
   "metadata": {
    "id": "juzlA6IZ9jrB"
   },
   "source": [
    "**Exercise**: \n",
    "\n",
    "- Using Python, compute how many seconds are there in a year. Store that number in a variable called `year_seconds`.\n",
    "\n",
    "- Multiply that number by your age and store it in a new variable called `life_seconds`\n",
    "\n",
    "- Find out how many seconds are there in the time you'll spend coursing this bootcamp. Store it into a variable called `bootcamp`.\n",
    "\n",
    "- Find out what percentage of your life will you spend coursing this bootcamp.\n"
   ]
  },
  {
   "cell_type": "code",
   "execution_count": 4,
   "metadata": {
    "colab": {
     "base_uri": "https://localhost:8080/"
    },
    "id": "QkoVq44S9jrB",
    "outputId": "d58e82ea-fb2d-410a-c10d-3d05a96f5208"
   },
   "outputs": [
    {
     "data": {
      "text/plain": [
       "30758400"
      ]
     },
     "execution_count": 4,
     "metadata": {},
     "output_type": "execute_result"
    }
   ],
   "source": [
    "year_seconds = 356 * 24 * 60 * 60\n",
    "year_seconds"
   ]
  },
  {
   "cell_type": "code",
   "execution_count": 6,
   "metadata": {
    "colab": {
     "base_uri": "https://localhost:8080/"
    },
    "id": "AfdghPiM9jrB",
    "outputId": "43f0b5c5-abf5-460e-d560-d8595c619aa7"
   },
   "outputs": [
    {
     "data": {
      "text/plain": [
       "615168000"
      ]
     },
     "execution_count": 6,
     "metadata": {},
     "output_type": "execute_result"
    }
   ],
   "source": [
    "life_seconds = year_seconds * 20\n",
    "life_seconds"
   ]
  },
  {
   "cell_type": "code",
   "execution_count": 1,
   "metadata": {
    "id": "sXlpbvbD9jrB"
   },
   "outputs": [],
   "source": [
    "bootcamp = 600 * 60 * 60"
   ]
  },
  {
   "cell_type": "code",
   "execution_count": 28,
   "metadata": {
    "colab": {
     "base_uri": "https://localhost:8080/"
    },
    "id": "vkv5XOWp9jrB",
    "outputId": "d0502e7c-5afa-4f43-a421-a1183e5d807d"
   },
   "outputs": [
    {
     "data": {
      "text/plain": [
       "0.0780274656679151"
      ]
     },
     "execution_count": 28,
     "metadata": {},
     "output_type": "execute_result"
    }
   ],
   "source": [
    "((600 * 60 * 60)/(90 * 356 * 24 * 60 * 60)) * 100"
   ]
  },
  {
   "cell_type": "markdown",
   "metadata": {
    "id": "SJAbW5In9jrB"
   },
   "source": [
    "## Text Strings\n",
    "\n",
    "You will use text just as much as numbers when programming. Strings are created with either single quotes `'` or double quotes `\"`:"
   ]
  },
  {
   "cell_type": "code",
   "execution_count": 29,
   "metadata": {
    "colab": {
     "base_uri": "https://localhost:8080/"
    },
    "id": "Rxgolhes9jrB",
    "outputId": "bb307580-a890-4fca-885b-7dd6bd2a8425"
   },
   "outputs": [
    {
     "name": "stdout",
     "output_type": "stream",
     "text": [
      "A string with double quotes\n",
      "A string with single quotes\n"
     ]
    }
   ],
   "source": [
    "print(\"A string with double quotes\")\n",
    "\n",
    "print('A string with single quotes')"
   ]
  },
  {
   "cell_type": "markdown",
   "metadata": {
    "id": "liAc8o259jrC"
   },
   "source": [
    "Having two possible quotation signs allows for having strings with quotes inside:"
   ]
  },
  {
   "cell_type": "code",
   "execution_count": 30,
   "metadata": {
    "colab": {
     "base_uri": "https://localhost:8080/"
    },
    "id": "B9HZT5E99jrC",
    "outputId": "7f675bd2-0b4c-49e2-ac07-1ac9304bd969"
   },
   "outputs": [
    {
     "name": "stdout",
     "output_type": "stream",
     "text": [
      "The name of our school is 'WBS CODING SCHOOL', which can be abbreviated to 'WBSCS'\n",
      "The name of our school is \"WBS CODING SCHOOL\", which can be abbreviated to \"WBSCS\"\n"
     ]
    }
   ],
   "source": [
    "print(\"The name of our school is 'WBS CODING SCHOOL', which can be abbreviated to 'WBSCS'\")\n",
    "\n",
    "print('The name of our school is \"WBS CODING SCHOOL\", which can be abbreviated to \"WBSCS\"')"
   ]
  },
  {
   "cell_type": "markdown",
   "metadata": {
    "id": "tGDtyD1S9jrC"
   },
   "source": [
    "If you need to create a multiple-line string, you can use triple quotes:"
   ]
  },
  {
   "cell_type": "code",
   "execution_count": 31,
   "metadata": {
    "colab": {
     "base_uri": "https://localhost:8080/"
    },
    "id": "OggB9_6q9jrC",
    "outputId": "92917719-a73d-4e12-9fdc-cd942f94ddce"
   },
   "outputs": [
    {
     "name": "stdout",
     "output_type": "stream",
     "text": [
      "Hold fast to dreams\n",
      "For if dreams die\n",
      "Life is a broken-winged bird\n",
      "That cannot fly.\n",
      "Hold fast to dreams\n",
      "For when dreams go\n",
      "Life is a barren field\n",
      "Frozen with snow.\n"
     ]
    }
   ],
   "source": [
    "poem = \"\"\"Hold fast to dreams\n",
    "For if dreams die\n",
    "Life is a broken-winged bird\n",
    "That cannot fly.\n",
    "Hold fast to dreams\n",
    "For when dreams go\n",
    "Life is a barren field\n",
    "Frozen with snow.\"\"\"\n",
    "\n",
    "print(poem)"
   ]
  },
  {
   "cell_type": "markdown",
   "metadata": {
    "id": "XMDVSzhl9jrC"
   },
   "source": [
    "You can create a string out of another data type with `str()`:"
   ]
  },
  {
   "cell_type": "code",
   "execution_count": 32,
   "metadata": {
    "colab": {
     "base_uri": "https://localhost:8080/"
    },
    "id": "Egjiy0FX9jrC",
    "outputId": "025dcb09-30ea-4045-9a9b-0ffe8da6df25"
   },
   "outputs": [
    {
     "name": "stdout",
     "output_type": "stream",
     "text": [
      "88\n"
     ]
    }
   ],
   "source": [
    "str_88 = str(88)\n",
    "print(str_88)"
   ]
  },
  {
   "cell_type": "code",
   "execution_count": 33,
   "metadata": {
    "colab": {
     "base_uri": "https://localhost:8080/"
    },
    "id": "sII6zfHc9jrC",
    "outputId": "b1e48b89-587f-4f57-e9f4-a63f02b35c59"
   },
   "outputs": [
    {
     "data": {
      "text/plain": [
       "str"
      ]
     },
     "execution_count": 33,
     "metadata": {},
     "output_type": "execute_result"
    }
   ],
   "source": [
    "type(str_88)"
   ]
  },
  {
   "cell_type": "markdown",
   "metadata": {
    "id": "YncConBM9jrC"
   },
   "source": [
    "By using the backslash `\\` preceding a character, we \"escape\" its usual meaning and give a special meaning to it. \n",
    "\n",
    "For example, `\\n` will add a new line, and `\\t` will add a tab:"
   ]
  },
  {
   "cell_type": "code",
   "execution_count": 34,
   "metadata": {
    "colab": {
     "base_uri": "https://localhost:8080/"
    },
    "id": "goss37jh9jrC",
    "outputId": "ea0473c0-70cf-4b2f-cde3-f50ee83160ae"
   },
   "outputs": [
    {
     "name": "stdout",
     "output_type": "stream",
     "text": [
      "This is the first line\n",
      "And this is the second one.\n"
     ]
    }
   ],
   "source": [
    "print(\"This is the first line\\nAnd this is the second one.\")"
   ]
  },
  {
   "cell_type": "code",
   "execution_count": 35,
   "metadata": {
    "colab": {
     "base_uri": "https://localhost:8080/"
    },
    "id": "pITgLZAt9jrC",
    "outputId": "139be689-2fd7-4f9a-c58d-1212e7600388"
   },
   "outputs": [
    {
     "name": "stdout",
     "output_type": "stream",
     "text": [
      "Before the tab\tAnd after the tab.\n"
     ]
    }
   ],
   "source": [
    "print(\"Before the tab\\tAnd after the tab.\")"
   ]
  },
  {
   "cell_type": "markdown",
   "metadata": {
    "id": "ecl__5ED9jrD"
   },
   "source": [
    "Similarly, you can escape quotes by using `\\`:"
   ]
  },
  {
   "cell_type": "code",
   "execution_count": 36,
   "metadata": {
    "colab": {
     "base_uri": "https://localhost:8080/"
    },
    "id": "mkBuneqa9jrD",
    "outputId": "0c0c0906-3693-4656-b838-99da23a48197"
   },
   "outputs": [
    {
     "name": "stdout",
     "output_type": "stream",
     "text": [
      "The world's largest rubber duck was 54'2\" by 67'7\" by 105'\n"
     ]
    }
   ],
   "source": [
    "fact = \"The world's largest rubber duck was 54'2\\\" by 67'7\\\" by 105'\"\n",
    "print(fact)"
   ]
  },
  {
   "cell_type": "markdown",
   "metadata": {
    "id": "-p906KkV9jrD"
   },
   "source": [
    "If you need to use a backslash inside your string, you type `\\\\`: the first backslash escapes the second one:"
   ]
  },
  {
   "cell_type": "code",
   "execution_count": 37,
   "metadata": {
    "colab": {
     "base_uri": "https://localhost:8080/"
    },
    "id": "aAy-Fro69jrE",
    "outputId": "903a22fd-be37-4c31-fa8f-6562805fb01a"
   },
   "outputs": [
    {
     "name": "stdout",
     "output_type": "stream",
     "text": [
      "Please contemplate a single, one —and only one— backslash: \\\n"
     ]
    }
   ],
   "source": [
    "print(\"Please contemplate a single, one —and only one— backslash: \\\\\")"
   ]
  },
  {
   "cell_type": "markdown",
   "metadata": {
    "id": "u3o31bREsnhR"
   },
   "source": [
    "# New Section"
   ]
  },
  {
   "cell_type": "markdown",
   "metadata": {
    "id": "GTFObd169jrE"
   },
   "source": [
    "By typing `r` before the quotes, we denote a string as a _raw string_, which will ignore any special meaning:"
   ]
  },
  {
   "cell_type": "code",
   "execution_count": 38,
   "metadata": {
    "colab": {
     "base_uri": "https://localhost:8080/"
    },
    "id": "m74jQvn89jrE",
    "outputId": "0a92cb12-07cf-4ff5-8b23-eb6514a2b404"
   },
   "outputs": [
    {
     "name": "stdout",
     "output_type": "stream",
     "text": [
      "This will not create a new line \\n and here we will see two backslashes \\\\\n"
     ]
    }
   ],
   "source": [
    "raw_str = r\"This will not create a new line \\n and here we will see two backslashes \\\\\"\n",
    "print(raw_str)"
   ]
  },
  {
   "cell_type": "markdown",
   "metadata": {
    "id": "gdXLE6kg9jrF"
   },
   "source": [
    "You can combine strings using `+` and multiply them with `*`:"
   ]
  },
  {
   "cell_type": "code",
   "execution_count": 39,
   "metadata": {
    "colab": {
     "base_uri": "https://localhost:8080/"
    },
    "id": "60DFFaI29jrF",
    "outputId": "5260a90c-e340-4c6a-b74c-41333c4f11ea"
   },
   "outputs": [
    {
     "name": "stdout",
     "output_type": "stream",
     "text": [
      "DataScience\n"
     ]
    }
   ],
   "source": [
    "print(\"Data\" + \"Science\")"
   ]
  },
  {
   "cell_type": "code",
   "execution_count": 40,
   "metadata": {
    "colab": {
     "base_uri": "https://localhost:8080/"
    },
    "id": "Lc2l7DWQ9jrF",
    "outputId": "0441a495-8911-4317-fcf2-2efda7fbec2b"
   },
   "outputs": [
    {
     "name": "stdout",
     "output_type": "stream",
     "text": [
      "DataDataDataDataDataDataDataDataDataData\n"
     ]
    }
   ],
   "source": [
    "print(\"Data\"*10)"
   ]
  },
  {
   "cell_type": "markdown",
   "metadata": {
    "id": "E6X3R-Qu9jrF"
   },
   "source": [
    "Using `[]`, you can grab certain characters from a string by specifying their position, either starting from the first element `[0]` or from the last one `[-1]`:"
   ]
  },
  {
   "cell_type": "code",
   "execution_count": 41,
   "metadata": {
    "colab": {
     "base_uri": "https://localhost:8080/",
     "height": 35
    },
    "id": "kugvoRh59jrF",
    "outputId": "4ea1d35b-c0aa-4503-a9d5-d2d0a5ef7de6"
   },
   "outputs": [
    {
     "data": {
      "application/vnd.google.colaboratory.intrinsic+json": {
       "type": "string"
      },
      "text/plain": [
       "'a'"
      ]
     },
     "execution_count": 41,
     "metadata": {},
     "output_type": "execute_result"
    }
   ],
   "source": [
    "letters = \"abcdefghijklmnopqrstuvwxyz\"\n",
    "\n",
    "letters[0]"
   ]
  },
  {
   "cell_type": "code",
   "execution_count": 42,
   "metadata": {
    "colab": {
     "base_uri": "https://localhost:8080/",
     "height": 35
    },
    "id": "PhVVHG5O9jrF",
    "outputId": "74ebfdea-c903-4ddf-d2ad-dec8b189bf12"
   },
   "outputs": [
    {
     "data": {
      "application/vnd.google.colaboratory.intrinsic+json": {
       "type": "string"
      },
      "text/plain": [
       "'c'"
      ]
     },
     "execution_count": 42,
     "metadata": {},
     "output_type": "execute_result"
    }
   ],
   "source": [
    "letters[2]"
   ]
  },
  {
   "cell_type": "code",
   "execution_count": 43,
   "metadata": {
    "colab": {
     "base_uri": "https://localhost:8080/",
     "height": 35
    },
    "id": "_GUQzusO9jrF",
    "outputId": "156afc8e-7e21-4375-ffe3-51b7bd008790"
   },
   "outputs": [
    {
     "data": {
      "application/vnd.google.colaboratory.intrinsic+json": {
       "type": "string"
      },
      "text/plain": [
       "'z'"
      ]
     },
     "execution_count": 43,
     "metadata": {},
     "output_type": "execute_result"
    }
   ],
   "source": [
    "letters[-1]"
   ]
  },
  {
   "cell_type": "code",
   "execution_count": 44,
   "metadata": {
    "colab": {
     "base_uri": "https://localhost:8080/",
     "height": 35
    },
    "id": "V5_KTTMm9jrF",
    "outputId": "c13c47bc-3bfd-4988-e673-31d300cf8c4c"
   },
   "outputs": [
    {
     "data": {
      "application/vnd.google.colaboratory.intrinsic+json": {
       "type": "string"
      },
      "text/plain": [
       "'w'"
      ]
     },
     "execution_count": 44,
     "metadata": {},
     "output_type": "execute_result"
    }
   ],
   "source": [
    "letters [-4]"
   ]
  },
  {
   "cell_type": "markdown",
   "metadata": {
    "id": "XaVoo-1O9jrF"
   },
   "source": [
    "You can _slice_ a string using `[start:end]`. Note that the start is inclusive, but the end is not:"
   ]
  },
  {
   "cell_type": "code",
   "execution_count": 45,
   "metadata": {
    "colab": {
     "base_uri": "https://localhost:8080/",
     "height": 35
    },
    "id": "oZe67mOX9jrF",
    "outputId": "6250f7de-98ad-46c0-dd08-7677d03e2642"
   },
   "outputs": [
    {
     "data": {
      "application/vnd.google.colaboratory.intrinsic+json": {
       "type": "string"
      },
      "text/plain": [
       "'bcde'"
      ]
     },
     "execution_count": 45,
     "metadata": {},
     "output_type": "execute_result"
    }
   ],
   "source": [
    "letters[1:5]"
   ]
  },
  {
   "cell_type": "markdown",
   "metadata": {
    "id": "V3z2_t-L9jrG"
   },
   "source": [
    "If you don't specify the start, the slice will start at the beginning of the string. Same goes for the end:"
   ]
  },
  {
   "cell_type": "code",
   "execution_count": 46,
   "metadata": {
    "colab": {
     "base_uri": "https://localhost:8080/",
     "height": 35
    },
    "id": "aG7gvGat9jrG",
    "outputId": "a8d896e9-297a-4a0f-a1ad-697b0f2a32b7"
   },
   "outputs": [
    {
     "data": {
      "application/vnd.google.colaboratory.intrinsic+json": {
       "type": "string"
      },
      "text/plain": [
       "'abcd'"
      ]
     },
     "execution_count": 46,
     "metadata": {},
     "output_type": "execute_result"
    }
   ],
   "source": [
    "letters[:4]"
   ]
  },
  {
   "cell_type": "code",
   "execution_count": 47,
   "metadata": {
    "colab": {
     "base_uri": "https://localhost:8080/",
     "height": 35
    },
    "id": "byxy0Fxu9jrG",
    "outputId": "4dfda118-1476-4d79-fcdb-9f44840c84d9"
   },
   "outputs": [
    {
     "data": {
      "application/vnd.google.colaboratory.intrinsic+json": {
       "type": "string"
      },
      "text/plain": [
       "'efghijklmnopqrstuvwxyz'"
      ]
     },
     "execution_count": 47,
     "metadata": {},
     "output_type": "execute_result"
    }
   ],
   "source": [
    "letters[4:]"
   ]
  },
  {
   "cell_type": "markdown",
   "metadata": {
    "id": "boj3LTz89jrG"
   },
   "source": [
    "Counting how many characters are there in a string can be done with `len()`:"
   ]
  },
  {
   "cell_type": "code",
   "execution_count": 48,
   "metadata": {
    "colab": {
     "base_uri": "https://localhost:8080/"
    },
    "id": "ls59e3gu9jrG",
    "outputId": "ea00fd5a-7807-43d1-d4f2-13cbe8ae7888"
   },
   "outputs": [
    {
     "data": {
      "text/plain": [
       "26"
      ]
     },
     "execution_count": 48,
     "metadata": {},
     "output_type": "execute_result"
    }
   ],
   "source": [
    "len(letters)"
   ]
  },
  {
   "cell_type": "markdown",
   "metadata": {
    "id": "7WyQW4Ig9jrG"
   },
   "source": [
    "The `split` function lets you brake a string into smaller strings at a certain character:"
   ]
  },
  {
   "cell_type": "code",
   "execution_count": 49,
   "metadata": {
    "id": "uQ1bJH_z9jrG"
   },
   "outputs": [],
   "source": [
    "jobs = \"Data Scientist, Data Analyst, Data Engineer, Business Analyst, Marketing Analyst, Analytics Consultant\""
   ]
  },
  {
   "cell_type": "code",
   "execution_count": 50,
   "metadata": {
    "colab": {
     "base_uri": "https://localhost:8080/",
     "height": 35
    },
    "id": "XeizyHTZ9jrG",
    "outputId": "a53f848b-ccdb-47f4-9135-170ea323e629"
   },
   "outputs": [
    {
     "data": {
      "application/vnd.google.colaboratory.intrinsic+json": {
       "type": "string"
      },
      "text/plain": [
       "'Data Scientist, Data Analyst, Data Engineer, Business Analyst, Marketing Analyst, Analytics Consultant'"
      ]
     },
     "execution_count": 50,
     "metadata": {},
     "output_type": "execute_result"
    }
   ],
   "source": [
    "jobs"
   ]
  },
  {
   "cell_type": "code",
   "execution_count": 51,
   "metadata": {
    "colab": {
     "base_uri": "https://localhost:8080/"
    },
    "id": "MGMy9Lvs9jrG",
    "outputId": "a5bcac70-0cee-4966-8d78-8cb4674c7a9a"
   },
   "outputs": [
    {
     "data": {
      "text/plain": [
       "['Data Scientist',\n",
       " ' Data Analyst',\n",
       " ' Data Engineer',\n",
       " ' Business Analyst',\n",
       " ' Marketing Analyst',\n",
       " ' Analytics Consultant']"
      ]
     },
     "execution_count": 51,
     "metadata": {},
     "output_type": "execute_result"
    }
   ],
   "source": [
    "jobs.split(\",\")"
   ]
  },
  {
   "cell_type": "markdown",
   "metadata": {
    "id": "jTkK-9YB9jrG"
   },
   "source": [
    "You can substitute a character using `replace()`:"
   ]
  },
  {
   "cell_type": "code",
   "execution_count": 52,
   "metadata": {
    "colab": {
     "base_uri": "https://localhost:8080/",
     "height": 35
    },
    "id": "EfRAH1DQ9jrG",
    "outputId": "4b05b2b9-34cf-44a8-a487-ea6d7f2c6af9"
   },
   "outputs": [
    {
     "data": {
      "application/vnd.google.colaboratory.intrinsic+json": {
       "type": "string"
      },
      "text/plain": [
       "'Duck Scientist, Duck Analyst, Duck Engineer, Business Analyst, Marketing Analyst, Analytics Consultant'"
      ]
     },
     "execution_count": 52,
     "metadata": {},
     "output_type": "execute_result"
    }
   ],
   "source": [
    "jobs.replace(\"Data\", \"Duck\")"
   ]
  },
  {
   "cell_type": "markdown",
   "metadata": {
    "id": "8kcFyXzW9jrG"
   },
   "source": [
    "You can specify how many times do you want to make that replacement:"
   ]
  },
  {
   "cell_type": "code",
   "execution_count": 53,
   "metadata": {
    "colab": {
     "base_uri": "https://localhost:8080/",
     "height": 35
    },
    "id": "UVpKW6vN9jrH",
    "outputId": "bf2edf38-80eb-41c8-fa52-8b97f6fbcf66"
   },
   "outputs": [
    {
     "data": {
      "application/vnd.google.colaboratory.intrinsic+json": {
       "type": "string"
      },
      "text/plain": [
       "'Duck Scientist, Duck Analyst, Data Engineer, Business Analyst, Marketing Analyst, Analytics Consultant'"
      ]
     },
     "execution_count": 53,
     "metadata": {},
     "output_type": "execute_result"
    }
   ],
   "source": [
    "jobs.replace(\"Data\", \"Duck\", 2)"
   ]
  },
  {
   "cell_type": "markdown",
   "metadata": {
    "id": "eOoL1zpB9jrH"
   },
   "source": [
    "A very common process in data cleaning is to remove preceeding and trailing spaces from strings. The function `strip()` does exactly that:"
   ]
  },
  {
   "cell_type": "code",
   "execution_count": 54,
   "metadata": {
    "colab": {
     "base_uri": "https://localhost:8080/"
    },
    "id": "hk0Udvyn9jrH",
    "outputId": "5c975db3-0a89-48f0-a9b7-f741205e7fcb"
   },
   "outputs": [
    {
     "name": "stdout",
     "output_type": "stream",
     "text": [
      "                     wow                     \n"
     ]
    }
   ],
   "source": [
    "wow = \"                     wow                     \"\n",
    "print(wow)"
   ]
  },
  {
   "cell_type": "code",
   "execution_count": 55,
   "metadata": {
    "colab": {
     "base_uri": "https://localhost:8080/",
     "height": 35
    },
    "id": "mZWhXNBD9jrH",
    "outputId": "9867ee49-a85e-4339-ab46-1afbbfbb205b"
   },
   "outputs": [
    {
     "data": {
      "application/vnd.google.colaboratory.intrinsic+json": {
       "type": "string"
      },
      "text/plain": [
       "'wow'"
      ]
     },
     "execution_count": 55,
     "metadata": {},
     "output_type": "execute_result"
    }
   ],
   "source": [
    "wow.strip()"
   ]
  },
  {
   "cell_type": "markdown",
   "metadata": {
    "id": "O8qkC9Ug9jrH"
   },
   "source": [
    "There are many more string methods in Python. Browse through them here: https://www.w3schools.com/python/python_ref_string.asp \n",
    "\n",
    "About 99.9% of the time, coding does not mean memorizing functions and knowing by heart how to use them, but being quick in finding the function to need, discovering how to use them reading the documentation or simply adapting coding examples from the internet to meet your needs. \n",
    "\n",
    "In the exercises below, you will have to use several Python string methods, in combination with what you've learned here. Use the link from _w3schools_ or Google around to complete them."
   ]
  },
  {
   "cell_type": "markdown",
   "metadata": {
    "id": "iYebLIcM9jrH"
   },
   "source": [
    "**Exercises:**\n",
    "\n",
    "1. Create a Python string with the following text, and assign it to the variable `data_science`:\n",
    "\n",
    "Data science is an interdisciplinary field that uses scientific methods, processes, algorithms and systems to extract knowledge and insights from noisy, structured and unstructured data, and apply knowledge and actionable insights from data across a broad range of application domains. \n",
    "\n",
    "Data science is related to data mining, machine learning and big data. Data science is a \"concept to unify statistics, data analysis, informatics, and their related methods\" in order to \"understand and analyze actual phenomena\" with data. It uses techniques and theories drawn from many fields within the context of mathematics, statistics, computer science, information science, and domain knowledge. However, data science is different from computer science and information science. Turing Award winner Jim Gray imagined data science as a \"fourth paradigm\" of science (empirical, theoretical, computational, and now data-driven) and asserted that \"everything about science is changing because of the impact of information technology\" and the data deluge."
   ]
  },
  {
   "cell_type": "code",
   "execution_count": 8,
   "metadata": {
    "id": "sqWvKQMU9jrH"
   },
   "outputs": [],
   "source": [
    "data_science = \"\"\"Data science is an interdisciplinary field that uses scientific methods, processes, algorithms and systems to extract knowledge and insights from noisy, structured and unstructured data, and apply knowledge and actionable insights from data across a broad range of application domains.\n",
    "\n",
    "Data science is related to data mining, machine learning and big data. Data science is a \"concept to unify statistics, data analysis, informatics, and their related methods\" in order to \"understand and analyze actual phenomena\" with data. It uses techniques and theories drawn from many fields within the context of mathematics, statistics, computer science, information science, and domain knowledge. However, data science is different from computer science and information science. Turing Award winner Jim Gray imagined data science as a \"fourth paradigm\" of science (empirical, theoretical, computational, and now data-driven) and asserted that \"everything about science is changing because of the impact of information technology\" and the data deluge.\"\"\""
   ]
  },
  {
   "cell_type": "markdown",
   "metadata": {
    "id": "g8DIfhZ_9jrH"
   },
   "source": [
    "2. How many characters are there in the string?"
   ]
  },
  {
   "cell_type": "code",
   "execution_count": 9,
   "metadata": {
    "colab": {
     "base_uri": "https://localhost:8080/"
    },
    "id": "q6gDSO3E9jrH",
    "outputId": "d35474c7-9083-47a0-9d64-f04e9c8abca8"
   },
   "outputs": [
    {
     "data": {
      "text/plain": [
       "1042"
      ]
     },
     "execution_count": 9,
     "metadata": {},
     "output_type": "execute_result"
    }
   ],
   "source": [
    "len(data_science)"
   ]
  },
  {
   "cell_type": "markdown",
   "metadata": {
    "id": "cnXae6C19jrI"
   },
   "source": [
    "3. Convert all the string to lower case."
   ]
  },
  {
   "cell_type": "code",
   "execution_count": 10,
   "metadata": {
    "colab": {
     "base_uri": "https://localhost:8080/",
     "height": 122
    },
    "id": "VsUPsobG9jrI",
    "outputId": "74737105-c8be-41b9-88cf-786135ceca86"
   },
   "outputs": [
    {
     "data": {
      "application/vnd.google.colaboratory.intrinsic+json": {
       "type": "string"
      },
      "text/plain": [
       "'data science is an interdisciplinary field that uses scientific methods, processes, algorithms and systems to extract knowledge and insights from noisy, structured and unstructured data, and apply knowledge and actionable insights from data across a broad range of application domains.\\n\\ndata science is related to data mining, machine learning and big data. data science is a \"concept to unify statistics, data analysis, informatics, and their related methods\" in order to \"understand and analyze actual phenomena\" with data. it uses techniques and theories drawn from many fields within the context of mathematics, statistics, computer science, information science, and domain knowledge. however, data science is different from computer science and information science. turing award winner jim gray imagined data science as a \"fourth paradigm\" of science (empirical, theoretical, computational, and now data-driven) and asserted that \"everything about science is changing because of the impact of information technology\" and the data deluge.'"
      ]
     },
     "execution_count": 10,
     "metadata": {},
     "output_type": "execute_result"
    }
   ],
   "source": [
    "data_science.lower()"
   ]
  },
  {
   "cell_type": "markdown",
   "metadata": {
    "id": "M2ig3CBO9jrI"
   },
   "source": [
    "4. How many times do the word \"data\" appear (in the string you converted to lower case)?"
   ]
  },
  {
   "cell_type": "code",
   "execution_count": 11,
   "metadata": {
    "colab": {
     "base_uri": "https://localhost:8080/"
    },
    "id": "d3xnrIw69jrJ",
    "outputId": "5a3836b3-b532-4a1c-c396-cb1dcf6cd7ef"
   },
   "outputs": [
    {
     "data": {
      "text/plain": [
       "10"
      ]
     },
     "execution_count": 11,
     "metadata": {},
     "output_type": "execute_result"
    }
   ],
   "source": [
    "data_science.count('data')"
   ]
  },
  {
   "cell_type": "markdown",
   "metadata": {
    "id": "sqLnagdM9jrK"
   },
   "source": [
    "5. Separate the string into sentences, breaking it down whenever there is a stop (`.`)."
   ]
  },
  {
   "cell_type": "code",
   "execution_count": 12,
   "metadata": {
    "colab": {
     "base_uri": "https://localhost:8080/"
    },
    "id": "IiV2QyrT9jrK",
    "outputId": "c095ef5e-52aa-4ead-b590-38437522b66e"
   },
   "outputs": [
    {
     "data": {
      "text/plain": [
       "['Data science is an interdisciplinary field that uses scientific methods, processes, algorithms and systems to extract knowledge and insights from noisy, structured and unstructured data, and apply knowledge and actionable insights from data across a broad range of application domains',\n",
       " '\\n\\nData science is related to data mining, machine learning and big data',\n",
       " ' Data science is a \"concept to unify statistics, data analysis, informatics, and their related methods\" in order to \"understand and analyze actual phenomena\" with data',\n",
       " ' It uses techniques and theories drawn from many fields within the context of mathematics, statistics, computer science, information science, and domain knowledge',\n",
       " ' However, data science is different from computer science and information science',\n",
       " ' Turing Award winner Jim Gray imagined data science as a \"fourth paradigm\" of science (empirical, theoretical, computational, and now data-driven) and asserted that \"everything about science is changing because of the impact of information technology\" and the data deluge',\n",
       " '']"
      ]
     },
     "execution_count": 12,
     "metadata": {},
     "output_type": "execute_result"
    }
   ],
   "source": [
    "data_science.split('.')"
   ]
  },
  {
   "cell_type": "markdown",
   "metadata": {
    "id": "EesNFTTO9jrK"
   },
   "source": [
    "6. Capitalize all the words of the string."
   ]
  },
  {
   "cell_type": "code",
   "execution_count": 13,
   "metadata": {
    "colab": {
     "base_uri": "https://localhost:8080/",
     "height": 122
    },
    "id": "kpZGn0NK9jrK",
    "outputId": "cf5558ae-7e5e-47ce-c3cb-1dbafc8cc549"
   },
   "outputs": [
    {
     "data": {
      "application/vnd.google.colaboratory.intrinsic+json": {
       "type": "string"
      },
      "text/plain": [
       "'Data Science Is An Interdisciplinary Field That Uses Scientific Methods, Processes, Algorithms And Systems To Extract Knowledge And Insights From Noisy, Structured And Unstructured Data, And Apply Knowledge And Actionable Insights From Data Across A Broad Range Of Application Domains.\\n\\nData Science Is Related To Data Mining, Machine Learning And Big Data. Data Science Is A \"Concept To Unify Statistics, Data Analysis, Informatics, And Their Related Methods\" In Order To \"Understand And Analyze Actual Phenomena\" With Data. It Uses Techniques And Theories Drawn From Many Fields Within The Context Of Mathematics, Statistics, Computer Science, Information Science, And Domain Knowledge. However, Data Science Is Different From Computer Science And Information Science. Turing Award Winner Jim Gray Imagined Data Science As A \"Fourth Paradigm\" Of Science (Empirical, Theoretical, Computational, And Now Data-Driven) And Asserted That \"Everything About Science Is Changing Because Of The Impact Of Information Technology\" And The Data Deluge.'"
      ]
     },
     "execution_count": 13,
     "metadata": {},
     "output_type": "execute_result"
    }
   ],
   "source": [
    "data_science.title()"
   ]
  },
  {
   "cell_type": "markdown",
   "metadata": {
    "id": "1uTXO2NB9jrK"
   },
   "source": [
    "7. Find the position of the word \"Turing\" in the string."
   ]
  },
  {
   "cell_type": "code",
   "execution_count": 14,
   "metadata": {
    "colab": {
     "base_uri": "https://localhost:8080/"
    },
    "id": "HuV6OUsQ9jrK",
    "outputId": "71e717ef-4349-4238-dff2-80b09bdb4006"
   },
   "outputs": [
    {
     "data": {
      "text/plain": [
       "771"
      ]
     },
     "execution_count": 14,
     "metadata": {},
     "output_type": "execute_result"
    }
   ],
   "source": [
    "data_science.find('Turing')"
   ]
  },
  {
   "cell_type": "markdown",
   "metadata": {
    "id": "QY5ao8e09jrK"
   },
   "source": [
    "### Fromatting with f-strings\n",
    "\n",
    "Strings can be concatenated with `+`. Sometimes, you need to _interpolate_ values into strings. \n",
    "\n",
    "Say you work for a logistics company and have a script that calculates the number of trucks that should be made ready for the next day. You want this number to be included in the sentence of an email, like this: `\"For tomorrow, we will need x trucks.\"` But replacing x with your value.\n",
    "\n",
    "This task is known as formatting strings. It can be confusing to learn this by just browsing the internet, because there are many ways to format strings in Python: the old one (using `%`), the new one (using `{}`and `format()`) and the newest one (using f-strings).\n",
    "\n",
    "We will only show you how to use f-strings, but be ready to stumble onto the other ones at any time!"
   ]
  },
  {
   "cell_type": "code",
   "execution_count": 15,
   "metadata": {
    "colab": {
     "base_uri": "https://localhost:8080/"
    },
    "id": "uUtDC4nG9jrK",
    "outputId": "b6be7c09-3e94-4829-c8bd-41828396f49b"
   },
   "outputs": [
    {
     "name": "stdout",
     "output_type": "stream",
     "text": [
      "For tomorrow, we will need 73 trucks.\n"
     ]
    }
   ],
   "source": [
    "n_trucks = 73\n",
    "\n",
    "email = f\"For tomorrow, we will need {n_trucks} trucks.\"\n",
    "\n",
    "print(email)"
   ]
  },
  {
   "cell_type": "markdown",
   "metadata": {
    "id": "wu4jlS659jrK"
   },
   "source": [
    "The curly brackets support expressions like those:"
   ]
  },
  {
   "cell_type": "code",
   "execution_count": 16,
   "metadata": {
    "colab": {
     "base_uri": "https://localhost:8080/"
    },
    "id": "SoWNRe6P9jrK",
    "outputId": "fe540994-2704-4040-8812-d68cc6a28b83"
   },
   "outputs": [
    {
     "name": "stdout",
     "output_type": "stream",
     "text": [
      "For tomorrow, we will need 83 trucks in the Main Garage.\n"
     ]
    }
   ],
   "source": [
    "place = \"main garage\"\n",
    "\n",
    "email = f\"For tomorrow, we will need {n_trucks+10} trucks in the {place.title()}.\"\n",
    "\n",
    "print(email)"
   ]
  },
  {
   "cell_type": "markdown",
   "metadata": {
    "id": "qqMvu4G19jrL"
   },
   "source": [
    "**Exercise**: Convert the `data_science` string from the previous exercise into an f-string, replacing the name \"Jim Gray\" by the variable `jim` that we define here:"
   ]
  },
  {
   "cell_type": "code",
   "execution_count": 18,
   "metadata": {
    "id": "leloOVdx9jrL"
   },
   "outputs": [],
   "source": [
    "define = f\"{data_science.replace('Jim Gray', 'jim')}\"\n"
   ]
  },
  {
   "cell_type": "code",
   "execution_count": 19,
   "metadata": {
    "colab": {
     "base_uri": "https://localhost:8080/"
    },
    "id": "jbveObbY9jrL",
    "outputId": "c7e169cd-a729-43e4-da8e-f37a08c43997"
   },
   "outputs": [
    {
     "name": "stdout",
     "output_type": "stream",
     "text": [
      "Data science is an interdisciplinary field that uses scientific methods, processes, algorithms and systems to extract knowledge and insights from noisy, structured and unstructured data, and apply knowledge and actionable insights from data across a broad range of application domains.\n",
      "\n",
      "Data science is related to data mining, machine learning and big data. Data science is a \"concept to unify statistics, data analysis, informatics, and their related methods\" in order to \"understand and analyze actual phenomena\" with data. It uses techniques and theories drawn from many fields within the context of mathematics, statistics, computer science, information science, and domain knowledge. However, data science is different from computer science and information science. Turing Award winner jim imagined data science as a \"fourth paradigm\" of science (empirical, theoretical, computational, and now data-driven) and asserted that \"everything about science is changing because of the impact of information technology\" and the data deluge.\n"
     ]
    }
   ],
   "source": [
    "print(define)"
   ]
  }
 ],
 "metadata": {
  "colab": {
   "collapsed_sections": [],
   "name": "Copy of 1-numbers-strings.ipynb",
   "provenance": []
  },
  "kernelspec": {
   "display_name": "Python 3 (ipykernel)",
   "language": "python",
   "name": "python3"
  },
  "language_info": {
   "codemirror_mode": {
    "name": "ipython",
    "version": 3
   },
   "file_extension": ".py",
   "mimetype": "text/x-python",
   "name": "python",
   "nbconvert_exporter": "python",
   "pygments_lexer": "ipython3",
   "version": "3.9.12"
  }
 },
 "nbformat": 4,
 "nbformat_minor": 4
}
