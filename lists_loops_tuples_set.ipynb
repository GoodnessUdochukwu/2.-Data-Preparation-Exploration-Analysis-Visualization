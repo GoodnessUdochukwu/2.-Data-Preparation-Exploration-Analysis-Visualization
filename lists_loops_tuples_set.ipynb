{
 "cells": [
  {
   "cell_type": "markdown",
   "metadata": {},
   "source": [
    "# Lists and loops\n",
    "\n",
    "As we are to become Data Scientists, we are going to need objects that can store multiple elements. In Python, the list is one of the most useful ones. You can create a list with `[]`, and separating its elements with commas:"
   ]
  },
  {
   "cell_type": "markdown",
   "metadata": {},
   "source": [
    "**List Exercises**"
   ]
  },
  {
   "cell_type": "code",
   "execution_count": 1,
   "metadata": {},
   "outputs": [],
   "source": [
    "# some lists to work with\n",
    "car_brands = [\"BMW\", \"Volkswagen\", \"Mercedes\", \"Ford\", \"Apple\", \"Toyota\", \n",
    "              \"Tesla\", \"Kia\", \"Porsche\", \"Mazda\", \"Honda\", \"Jaguar\", \n",
    "              \"Mitsubishi\", \"Audi\", \"Bentley\", \"Bugatti\", \"Chrisler\"]\n",
    "\n",
    "fibonacci = [0, 1, 1, 2, 3, 5, 8, 13, 21, 34, 53, 89, 144]\n",
    "\n",
    "characters = [[\"Harry\", \"Hermoine\", \"Ron\"], \n",
    "              [\"Daenerys Targaryen\", \"Jon Snow\", \"Tyrion Lannister\", \n",
    "               \"Cercei Lannister\", \"Arya Stark\", \"Sansa Stark\"],\n",
    "              [\"Aragorn\", \"Gandalf\", \"Frodo\", \"Legolas\", \"Gollum\", \"Gimli\"],\n",
    "              [\"Walter White\", \"Jesse Pinkman\", \"Gus Fring\"]\n",
    "             ]\n",
    "\n",
    "sex_and_the_city = [\"Carrie\", \"Samantha\", \"Charlotte\", \"Miranda\"]\n",
    "\n",
    "numbers = [[1, 51, 59, 2, 95, 25, 28, 67, 14, 63, 84, 33, 56, 31, 54, 97, 77, \n",
    "            98, 46, 84, 6, 66, 86, 77, 69, 19, 77, 7, 76, 19, 59, 77, 28, 34, \n",
    "            94, 4, 45, 95, 41, 66, 5, 38, 35, 57, 84, 38, 94, 65, 45, 80, 83, \n",
    "            22, 12, 100, 52, 55, 31, 69, 29, 67, 4, 39, 87, 49, 81, 82, 96, 4, \n",
    "            85, 62, 90, 72, 70, 26, 29, 63, 48, 94, 58, 9, 49, 79, 33, 63, 41, \n",
    "            13, 90, 37, 31, 3, 11, 54, 56, 72, 91, 97, 2, 83, 82, 6]]"
   ]
  },
  {
   "cell_type": "markdown",
   "metadata": {},
   "source": [
    "1. Find out the position of \"Bugatti\" in the `car_brands` list (whether it is the 3rd element, the 5th...)."
   ]
  },
  {
   "cell_type": "code",
   "execution_count": 2,
   "metadata": {},
   "outputs": [
    {
     "name": "stdout",
     "output_type": "stream",
     "text": [
      "16\n"
     ]
    }
   ],
   "source": [
    "print(car_brands.index(\"Bugatti\") + 1)"
   ]
  },
  {
   "cell_type": "markdown",
   "metadata": {},
   "source": [
    "2. Remove \"Apple\" from the `car_brands` list."
   ]
  },
  {
   "cell_type": "code",
   "execution_count": 3,
   "metadata": {},
   "outputs": [
    {
     "name": "stdout",
     "output_type": "stream",
     "text": [
      "['BMW', 'Volkswagen', 'Mercedes', 'Ford', 'Toyota', 'Tesla', 'Kia', 'Porsche', 'Mazda', 'Honda', 'Jaguar', 'Mitsubishi', 'Audi', 'Bentley', 'Bugatti', 'Chrisler']\n"
     ]
    }
   ],
   "source": [
    "car_brands = [\"BMW\", \"Volkswagen\", \"Mercedes\", \"Ford\", \"Apple\", \"Toyota\", \n",
    "              \"Tesla\", \"Kia\", \"Porsche\", \"Mazda\", \"Honda\", \"Jaguar\", \n",
    "              \"Mitsubishi\", \"Audi\", \"Bentley\", \"Bugatti\", \"Chrisler\"]\n",
    "\n",
    "car_brands.remove(\"Apple\")\n",
    "print(car_brands)"
   ]
  },
  {
   "cell_type": "markdown",
   "metadata": {},
   "source": [
    "3. Order alphabetically the `car_brands` list."
   ]
  },
  {
   "cell_type": "code",
   "execution_count": 4,
   "metadata": {},
   "outputs": [
    {
     "data": {
      "text/plain": [
       "['Audi',\n",
       " 'BMW',\n",
       " 'Bentley',\n",
       " 'Bugatti',\n",
       " 'Chrisler',\n",
       " 'Ford',\n",
       " 'Honda',\n",
       " 'Jaguar',\n",
       " 'Kia',\n",
       " 'Mazda',\n",
       " 'Mercedes',\n",
       " 'Mitsubishi',\n",
       " 'Porsche',\n",
       " 'Tesla',\n",
       " 'Toyota',\n",
       " 'Volkswagen']"
      ]
     },
     "execution_count": 4,
     "metadata": {},
     "output_type": "execute_result"
    }
   ],
   "source": [
    "sorted(car_brands)"
   ]
  },
  {
   "cell_type": "markdown",
   "metadata": {},
   "source": [
    "4. There is a mistake in the list with fibonacci sequence: fix it."
   ]
  },
  {
   "cell_type": "code",
   "execution_count": 5,
   "metadata": {},
   "outputs": [
    {
     "data": {
      "text/plain": [
       "[0, 1, 1, 2, 3, 5, 8, 13, 21, 34, 55, 89, 144]"
      ]
     },
     "execution_count": 5,
     "metadata": {},
     "output_type": "execute_result"
    }
   ],
   "source": [
    "fibonacci[-3] = 55\n",
    "fibonacci"
   ]
  },
  {
   "cell_type": "markdown",
   "metadata": {},
   "source": [
    "5. Order descendingly the `fibonacci` list."
   ]
  },
  {
   "cell_type": "code",
   "execution_count": 6,
   "metadata": {},
   "outputs": [
    {
     "name": "stdout",
     "output_type": "stream",
     "text": [
      "[144, 89, 55, 34, 21, 13, 8, 5, 3, 2, 1, 1, 0]\n"
     ]
    }
   ],
   "source": [
    "fibonacci.sort(reverse=True)\n",
    "print(fibonacci)"
   ]
  },
  {
   "cell_type": "markdown",
   "metadata": {},
   "source": [
    "6. Add \"Hagrid\" and \"Dumbledore\" to the first list inside the `characters` list."
   ]
  },
  {
   "cell_type": "code",
   "execution_count": 7,
   "metadata": {},
   "outputs": [
    {
     "ename": "ValueError",
     "evalue": "list.remove(x): x not in list",
     "output_type": "error",
     "traceback": [
      "\u001b[1;31m---------------------------------------------------------------------------\u001b[0m",
      "\u001b[1;31mValueError\u001b[0m                                Traceback (most recent call last)",
      "Input \u001b[1;32mIn [7]\u001b[0m, in \u001b[0;36m<cell line: 1>\u001b[1;34m()\u001b[0m\n\u001b[1;32m----> 1\u001b[0m \u001b[43mcharacters\u001b[49m\u001b[43m[\u001b[49m\u001b[38;5;241;43m1\u001b[39;49m\u001b[43m]\u001b[49m\u001b[38;5;241;43m.\u001b[39;49m\u001b[43mremove\u001b[49m\u001b[43m(\u001b[49m\u001b[38;5;124;43m\"\u001b[39;49m\u001b[38;5;124;43mDumbledore\u001b[39;49m\u001b[38;5;124;43m\"\u001b[39;49m\u001b[43m)\u001b[49m\n\u001b[0;32m      2\u001b[0m \u001b[38;5;28mprint\u001b[39m(characters)\n",
      "\u001b[1;31mValueError\u001b[0m: list.remove(x): x not in list"
     ]
    }
   ],
   "source": [
    "characters[1].remove(\"Dumbledore\")\n",
    "print(characters)"
   ]
  },
  {
   "cell_type": "markdown",
   "metadata": {},
   "source": [
    "7. Add the `sex_and_the_city` list in the `characters` list."
   ]
  },
  {
   "cell_type": "code",
   "execution_count": 8,
   "metadata": {},
   "outputs": [
    {
     "name": "stdout",
     "output_type": "stream",
     "text": [
      "[['Harry', 'Hermoine', 'Ron'], ['Daenerys Targaryen', 'Jon Snow', 'Tyrion Lannister', 'Cercei Lannister', 'Arya Stark', 'Sansa Stark'], ['Aragorn', 'Gandalf', 'Frodo', 'Legolas', 'Gollum', 'Gimli'], ['Walter White', 'Jesse Pinkman', 'Gus Fring'], ['Carrie', 'Samantha', 'Charlotte', 'Miranda']]\n"
     ]
    }
   ],
   "source": [
    "characters.append(sex_and_the_city)\n",
    "print(characters)"
   ]
  },
  {
   "cell_type": "markdown",
   "metadata": {},
   "source": [
    "8. Remove all elements from the `sex_and_the_city` list."
   ]
  },
  {
   "cell_type": "code",
   "execution_count": 9,
   "metadata": {},
   "outputs": [
    {
     "name": "stdout",
     "output_type": "stream",
     "text": [
      "[]\n"
     ]
    }
   ],
   "source": [
    "sex_and_the_city.clear()\n",
    "print(sex_and_the_city)"
   ]
  },
  {
   "cell_type": "markdown",
   "metadata": {},
   "source": [
    "9. Sum all elements in the `numbers` list."
   ]
  },
  {
   "cell_type": "code",
   "execution_count": 10,
   "metadata": {},
   "outputs": [
    {
     "name": "stdout",
     "output_type": "stream",
     "text": [
      "5312\n"
     ]
    }
   ],
   "source": [
    "print(sum(numbers[0]))"
   ]
  },
  {
   "cell_type": "markdown",
   "metadata": {},
   "source": [
    "10. Find out how many times does the number `77` appear in the `numbers` list."
   ]
  },
  {
   "cell_type": "code",
   "execution_count": 11,
   "metadata": {},
   "outputs": [
    {
     "name": "stdout",
     "output_type": "stream",
     "text": [
      "4\n"
     ]
    }
   ],
   "source": [
    "print(numbers[0].count(77))"
   ]
  },
  {
   "cell_type": "markdown",
   "metadata": {},
   "source": [
    "### For loops\n",
    "\n",
    "Whenever you want to apply any transformation to all elements in a list, you iterate through them with a `for` loop."
   ]
  },
  {
   "cell_type": "markdown",
   "metadata": {},
   "source": [
    "**Exercise:** \n",
    "\n",
    "1. Create a List named `lower_names` with all the names of the students in your batch. Include name and surname, all in lowercase (like `john doe`)."
   ]
  },
  {
   "cell_type": "code",
   "execution_count": 12,
   "metadata": {},
   "outputs": [],
   "source": [
    "lower_names = [\"justine amabel\", \"karl anna\", \"lina sergei\", \"magnus aurora\"]"
   ]
  },
  {
   "cell_type": "markdown",
   "metadata": {},
   "source": [
    "2. Create a new list `capital_names`  with both the names and surnames capitalized (like `John Doe`), by iterating through the first list with a `for` loop."
   ]
  },
  {
   "cell_type": "code",
   "execution_count": 13,
   "metadata": {},
   "outputs": [
    {
     "name": "stdout",
     "output_type": "stream",
     "text": [
      "['Justine Amabel', 'Karl Anna', 'Lina Sergei', 'Magnus Aurora']\n"
     ]
    }
   ],
   "source": [
    "capital_names = []\n",
    "for x in range(len(lower_names)):\n",
    "    capital_names.append(lower_names[x].title())\n",
    "    \n",
    "print(capital_names)"
   ]
  },
  {
   "cell_type": "markdown",
   "metadata": {},
   "source": [
    "### Conditions with `if`\n",
    "\n",
    "Whenever you want to do something only if a condition is met, you will need an `if` statement. Let's say we want to greet people only if their name starts with \"A\". We will add a few more names to our list:"
   ]
  },
  {
   "cell_type": "code",
   "execution_count": 14,
   "metadata": {},
   "outputs": [],
   "source": [
    "names_list = [\"Justine\", \"Amabel\", \"Karl\", \"Anna\", \"Lina\", \"Sergei\", \"Magnus\", \"Aurora\"]"
   ]
  },
  {
   "cell_type": "code",
   "execution_count": 15,
   "metadata": {},
   "outputs": [
    {
     "name": "stdout",
     "output_type": "stream",
     "text": [
      "Bye Justine!\n",
      "next iteration incoming... \n",
      "\n",
      "Hello Amabel!\n",
      "next iteration incoming... \n",
      "\n",
      "Bye Karl!\n",
      "next iteration incoming... \n",
      "\n",
      "Hello Anna!\n",
      "next iteration incoming... \n",
      "\n",
      "Bye Lina!\n",
      "next iteration incoming... \n",
      "\n",
      "Bye Sergei!\n",
      "next iteration incoming... \n",
      "\n",
      "Bye Magnus!\n",
      "next iteration incoming... \n",
      "\n",
      "Hello Aurora!\n",
      "next iteration incoming... \n",
      "\n"
     ]
    }
   ],
   "source": [
    "for name in names_list:\n",
    "    if name.startswith(\"A\"):\n",
    "        print(\"Hello \" + name + \"!\")\n",
    "    else:\n",
    "        print(\"Bye \" + name + \"!\")\n",
    "    print(\"next iteration incoming... \\n\")"
   ]
  },
  {
   "cell_type": "markdown",
   "metadata": {},
   "source": [
    "**Exercise:** In the previous code, the \"next iteration incoming...\" text gets printed also for the last iteration, which might be confusing for whoever is reading the output of this code. Tweak the code so that this text only gets printed if we are not in the last element of our list."
   ]
  },
  {
   "cell_type": "code",
   "execution_count": 16,
   "metadata": {},
   "outputs": [
    {
     "name": "stdout",
     "output_type": "stream",
     "text": [
      "Bye Justine!\n",
      "next iteration incoming... \n",
      "\n",
      "Hello Amabel!\n",
      "next iteration incoming... \n",
      "\n",
      "Bye Karl!\n",
      "next iteration incoming... \n",
      "\n",
      "Hello Anna!\n",
      "next iteration incoming... \n",
      "\n",
      "Bye Lina!\n",
      "next iteration incoming... \n",
      "\n",
      "Bye Sergei!\n",
      "next iteration incoming... \n",
      "\n",
      "Bye Magnus!\n",
      "next iteration incoming... \n",
      "\n",
      "Hello Aurora!\n"
     ]
    }
   ],
   "source": [
    "for name in names_list:\n",
    "    if name.startswith(\"A\") and names_list.index(name) == len(names_list)-1:\n",
    "        print(\"Hello \" + name + \"!\")\n",
    "    elif names_list.index(name) == len(names_list):\n",
    "        print(\"Bye \" + name + \"!\")\n",
    "    elif name.startswith(\"A\") and names_list.index(name) < len(names_list):\n",
    "        print(\"Hello \" + name + \"!\")\n",
    "        print(\"next iteration incoming... \\n\")\n",
    "    elif names_list.index(name) < len(names_list):\n",
    "        print(\"Bye \" + name + \"!\")\n",
    "        print(\"next iteration incoming... \\n\")"
   ]
  },
  {
   "cell_type": "code",
   "execution_count": 17,
   "metadata": {},
   "outputs": [
    {
     "name": "stdout",
     "output_type": "stream",
     "text": [
      "Bye Justine!\n",
      "next iteration incoming... \n",
      "\n",
      "Hello Amabel!\n",
      "next iteration incoming... \n",
      "\n",
      "Bye Karl!\n",
      "next iteration incoming... \n",
      "\n",
      "Hello Anna!\n",
      "next iteration incoming... \n",
      "\n",
      "Bye Lina!\n",
      "next iteration incoming... \n",
      "\n",
      "Bye Sergei!\n",
      "next iteration incoming... \n",
      "\n",
      "Bye Magnus!\n",
      "next iteration incoming... \n",
      "\n",
      "Hello Aurora!\n"
     ]
    }
   ],
   "source": [
    "i=1\n",
    "for name in names_list:\n",
    "    if name.startswith(\"A\"):\n",
    "        print(\"Hello \" + name + \"!\")\n",
    "    else:\n",
    "        print(\"Bye \" + name + \"!\")\n",
    "    if(i != len(names_list)):\n",
    "        print(\"next iteration incoming... \\n\")\n",
    "    i+=1"
   ]
  },
  {
   "cell_type": "markdown",
   "metadata": {},
   "source": [
    "### Bonus exercises\n",
    "\n",
    "1. Implement the for loop that greets people for the `characters` list you used in the previous exercises. For now, do not include any condition —just say hello to every character. What do you need to do to iterate through lists inside a list?"
   ]
  },
  {
   "cell_type": "code",
   "execution_count": 18,
   "metadata": {},
   "outputs": [
    {
     "name": "stdout",
     "output_type": "stream",
     "text": [
      "Hello Harry\n",
      "Hello Hermoine\n",
      "Hello Ron\n",
      "Hello Daenerys Targaryen\n",
      "Hello Jon Snow\n",
      "Hello Tyrion Lannister\n",
      "Hello Cercei Lannister\n",
      "Hello Arya Stark\n",
      "Hello Sansa Stark\n",
      "Hello Aragorn\n",
      "Hello Gandalf\n",
      "Hello Frodo\n",
      "Hello Legolas\n",
      "Hello Gollum\n",
      "Hello Gimli\n",
      "Hello Walter White\n",
      "Hello Jesse Pinkman\n",
      "Hello Gus Fring\n"
     ]
    }
   ],
   "source": [
    "for element in characters:\n",
    "    for name in element:\n",
    "        print(f\"Hello {name}\")"
   ]
  },
  {
   "cell_type": "markdown",
   "metadata": {},
   "source": [
    "2. Tweak the code of the previous exercise to greet characters based on these conditions:\n",
    "\n",
    "- If their name is composed of two words (Name Surname), the greeting should be \"Hello Name, from the house of Surname\".\n",
    "\n",
    "- If their name is shorter than 6 characters, the greeting should replicate the last letter of the name as many times as needed until it reaches 6 characters."
   ]
  },
  {
   "cell_type": "code",
   "execution_count": 19,
   "metadata": {},
   "outputs": [
    {
     "name": "stdout",
     "output_type": "stream",
     "text": [
      "Hello Daenerys, from the house of Targaryen\n",
      "Hello Jon, from the house of Snow\n",
      "Hello Tyrion, from the house of Lannister\n",
      "Hello Cercei, from the house of Lannister\n",
      "Hello Arya, from the house of Stark\n",
      "Hello Sansa, from the house of Stark\n",
      "Hello Walter, from the house of White\n",
      "Hello Jesse, from the house of Pinkman\n",
      "Hello Gus, from the house of Fring\n"
     ]
    }
   ],
   "source": [
    "for element in characters:\n",
    "    for name in element:\n",
    "        if name.find(' ') > 0:\n",
    "            fullname = name.split(' ')\n",
    "            print(f\"Hello {fullname[0]}, from the house of {fullname[1]}\")"
   ]
  },
  {
   "cell_type": "code",
   "execution_count": 20,
   "metadata": {},
   "outputs": [
    {
     "name": "stdout",
     "output_type": "stream",
     "text": [
      "Hello Daenerys, from the house of Targaryen\n",
      "Hello Jonnnn, from the house of Snow\n",
      "Hello Tyrion, from the house of Lannister\n",
      "Hello Cercei, from the house of Lannister\n",
      "Hello Aryaaa, from the house of Stark\n",
      "Hello Sansaa, from the house of Stark\n",
      "Hello Walter, from the house of White\n",
      "Hello Jessee, from the house of Pinkman\n",
      "Hello Gussss, from the house of Fring\n"
     ]
    }
   ],
   "source": [
    "for element in characters:\n",
    "    for name in element:\n",
    "        if name.find(' ') > 0:\n",
    "            fullname = name.split(' ')\n",
    "            if len(fullname[0]) < 6:\n",
    "                f_name = fullname[0] + fullname[0][-1]*(6 - len(fullname[0]))\n",
    "                print(f\"Hello {''.join(f_name)}, from the house of {fullname[1]}\")\n",
    "            else:\n",
    "                print(f\"Hello {fullname[0]}, from the house of {fullname[1]}\") "
   ]
  },
  {
   "cell_type": "code",
   "execution_count": 21,
   "metadata": {},
   "outputs": [
    {
     "name": "stdout",
     "output_type": "stream",
     "text": [
      "[3, 2, 1]\n",
      "[3, 2, 1]\n"
     ]
    }
   ],
   "source": [
    "list1 = [1, 2, 3]\n",
    "list2 = list1\n",
    "list2.reverse()\n",
    "print(list1)\n",
    "print(list2)"
   ]
  },
  {
   "cell_type": "markdown",
   "metadata": {},
   "source": [
    "# Tuples and Sets\n",
    "\n",
    "**Tuples** are almost exactly like lists, but unmutable. You'll see what that means in a second. They are defined by regular parentheses instead of square brackets:"
   ]
  },
  {
   "cell_type": "code",
   "execution_count": 22,
   "metadata": {
    "id": "90Yca7rWKEN9"
   },
   "outputs": [
    {
     "name": "stdout",
     "output_type": "stream",
     "text": [
      "('a', 'b', 'c', 'd')\n"
     ]
    }
   ],
   "source": [
    "my_tuple = (\"a\", \"b\", \"c\", \"d\")\n",
    "print(my_tuple)"
   ]
  },
  {
   "cell_type": "markdown",
   "metadata": {
    "id": "HF6rQ5ZfKjoW"
   },
   "source": [
    "Tuples are ordered. You can select items inside of a tuple by indexing with `[]`, just like lists:"
   ]
  },
  {
   "cell_type": "code",
   "execution_count": 23,
   "metadata": {
    "id": "ywI8Ls0zKHfm"
   },
   "outputs": [
    {
     "data": {
      "text/plain": [
       "'c'"
      ]
     },
     "execution_count": 23,
     "metadata": {},
     "output_type": "execute_result"
    }
   ],
   "source": [
    "my_tuple[2]"
   ]
  },
  {
   "cell_type": "markdown",
   "metadata": {
    "id": "Ygt4oqOzK5xq"
   },
   "source": [
    "But you can not update the value of an element inside of a tuple. Trying to do so will result in a `TypeError`:\n",
    "\n"
   ]
  },
  {
   "cell_type": "code",
   "execution_count": 24,
   "metadata": {
    "id": "Xx0D8XzWKhMl"
   },
   "outputs": [
    {
     "ename": "TypeError",
     "evalue": "'tuple' object does not support item assignment",
     "output_type": "error",
     "traceback": [
      "\u001b[1;31m---------------------------------------------------------------------------\u001b[0m",
      "\u001b[1;31mTypeError\u001b[0m                                 Traceback (most recent call last)",
      "Input \u001b[1;32mIn [24]\u001b[0m, in \u001b[0;36m<cell line: 1>\u001b[1;34m()\u001b[0m\n\u001b[1;32m----> 1\u001b[0m my_tuple[\u001b[38;5;241m2\u001b[39m] \u001b[38;5;241m=\u001b[39m \u001b[38;5;124m\"\u001b[39m\u001b[38;5;124me\u001b[39m\u001b[38;5;124m\"\u001b[39m\n",
      "\u001b[1;31mTypeError\u001b[0m: 'tuple' object does not support item assignment"
     ]
    }
   ],
   "source": [
    "my_tuple[2] = \"e\""
   ]
  },
  {
   "cell_type": "markdown",
   "metadata": {
    "id": "PqltEjSlLU_X"
   },
   "source": [
    "**Sets** are collections of items, just like lists and tuples, but they have the following properties:\n",
    "\n",
    "* They're not ordered.\n",
    "* They're unchangeable.\n",
    "* They cannot contain duplicate members."
   ]
  },
  {
   "cell_type": "code",
   "execution_count": 25,
   "metadata": {
    "id": "d0krvDFxKfNd"
   },
   "outputs": [],
   "source": [
    "my_set = {1, 2, 3, 4}"
   ]
  },
  {
   "cell_type": "markdown",
   "metadata": {
    "id": "etD845CPMSs_"
   },
   "source": [
    "If you try to include a duplicate into a set, it will simply not get stored:"
   ]
  },
  {
   "cell_type": "code",
   "execution_count": 26,
   "metadata": {
    "id": "AqB52ehOMQwW"
   },
   "outputs": [
    {
     "name": "stdout",
     "output_type": "stream",
     "text": [
      "{1, 2, 3, 5}\n"
     ]
    }
   ],
   "source": [
    "my_fibonacci_set = {1, 1, 2, 3, 5}\n",
    "print(my_fibonacci_set)"
   ]
  },
  {
   "cell_type": "markdown",
   "metadata": {
    "id": "5YxifWyWMrZB"
   },
   "source": [
    "This characteristic makes them useful to extract unique values from other python collections. You can transform another collection into a set using the `set()` function:"
   ]
  },
  {
   "cell_type": "code",
   "execution_count": 27,
   "metadata": {
    "id": "GncBABY0Mmdl"
   },
   "outputs": [
    {
     "name": "stdout",
     "output_type": "stream",
     "text": [
      "{1, 2.5, 3.99, 4.95, 3, 6, 4, 8, 9.99, 11.25, 14}\n"
     ]
    }
   ],
   "source": [
    "price_list = [3.99, 2.5, 9.99, 1, 4.95, \n",
    "              3, 2.5, 6, 8, 1, 9.99, 4, \n",
    "              11.25, 14, 3.99, 4, 6, 1]\n",
    "unique_prices = set(price_list)\n",
    "print(unique_prices)"
   ]
  },
  {
   "cell_type": "code",
   "execution_count": 28,
   "metadata": {
    "id": "Y4JYpJ0GNMJ8"
   },
   "outputs": [
    {
     "name": "stdout",
     "output_type": "stream",
     "text": [
      "There are 18 prices listed, but only 11 unique price values.\n"
     ]
    }
   ],
   "source": [
    "print(\n",
    "    \"There are\", len(price_list), \"prices listed, but only\",\n",
    "    len(unique_prices), \"unique price values.\"\n",
    "    )"
   ]
  },
  {
   "cell_type": "markdown",
   "metadata": {
    "id": "D3hmWRXXOCsd"
   },
   "source": [
    "**Exercise:** \n",
    "\n",
    "* Create a tuple with 10 elements and store it in a variable named `first_tuple`.\n",
    "* Using `[]`, select only the first 6 elements of the tuple you created and store them into a new variable named `second_tuple`.\n",
    "* Convert the `second_tuple` into a set and store it in a variable called `first_set`.\n",
    "* Can you select the first element of the `first_set`?"
   ]
  },
  {
   "cell_type": "code",
   "execution_count": 29,
   "metadata": {},
   "outputs": [
    {
     "data": {
      "text/plain": [
       "[0, 1, 2, 3, 4, 5, 6, 7, 8, 9]"
      ]
     },
     "execution_count": 29,
     "metadata": {},
     "output_type": "execute_result"
    }
   ],
   "source": [
    "t = []\n",
    "for x in range(10):\n",
    "    t.append(x) \n",
    "t"
   ]
  },
  {
   "cell_type": "code",
   "execution_count": 30,
   "metadata": {
    "id": "PdbIuGg0RQMe"
   },
   "outputs": [
    {
     "name": "stdout",
     "output_type": "stream",
     "text": [
      "<generator object <genexpr> at 0x0000021E587B9970>\n"
     ]
    }
   ],
   "source": [
    "first_tuple = (t(x) for x in range(10))\n",
    "first_tuple\n",
    "print(first_tuple)"
   ]
  },
  {
   "cell_type": "markdown",
   "metadata": {
    "id": "Alx_Dh-xPgSQ"
   },
   "source": [
    "**Exercise:** Below, you have a set with healthy ingredients and another one with vegan ingredients. Using [set methods you will find here](https://www.w3schools.com/python/python_ref_set.asp), print out a set with ingredients that are both healthy and vegan."
   ]
  },
  {
   "cell_type": "code",
   "execution_count": 31,
   "metadata": {
    "id": "yOFgsQ5aPSN7"
   },
   "outputs": [
    {
     "name": "stdout",
     "output_type": "stream",
     "text": [
      "{'salmon', 'fake chiken', 'olive oil', 'seafood', 'cookies', 'candy', 'avocado', 'apple', 'yogurt', 'spinach'}\n"
     ]
    }
   ],
   "source": [
    "healthy_food = {\"apple\", \"salmon\", \"avocado\", \"seafood\", \"olive oil\", \"spinach\", \"yogurt\"}\n",
    "vegan_food = {\"cookies\", \"apple\", \"avocado\", \"candy\", \"olive oil\", \"fake chiken\", \"spinach\"}\n",
    "\n",
    "print(healthy_food|vegan_food)"
   ]
  }
 ],
 "metadata": {
  "kernelspec": {
   "display_name": "Python 3 (ipykernel)",
   "language": "python",
   "name": "python3"
  },
  "language_info": {
   "codemirror_mode": {
    "name": "ipython",
    "version": 3
   },
   "file_extension": ".py",
   "mimetype": "text/x-python",
   "name": "python",
   "nbconvert_exporter": "python",
   "pygments_lexer": "ipython3",
   "version": "3.9.12"
  }
 },
 "nbformat": 4,
 "nbformat_minor": 4
}
